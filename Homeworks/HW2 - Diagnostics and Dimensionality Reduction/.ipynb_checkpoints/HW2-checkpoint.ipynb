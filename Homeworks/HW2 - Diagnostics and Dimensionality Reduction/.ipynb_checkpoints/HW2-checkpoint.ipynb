{
 "cells": [
  {
   "cell_type": "code",
   "execution_count": 283,
   "metadata": {},
   "outputs": [],
   "source": [
    "import numpy\n",
    "import random\n",
    "from sklearn import linear_model\n",
    "from sklearn.decomposition import PCA\n",
    "import matplotlib.pyplot as plt\n",
    "#from sklearn.metrics import balanced_accuracy_score\n",
    "# from urllib.request import urlopen\n",
    "# import scipy.optimize\n",
    "import warnings\n",
    "warnings.filterwarnings('ignore')"
   ]
  },
  {
   "cell_type": "markdown",
   "metadata": {},
   "source": [
    "# Question 1"
   ]
  },
  {
   "cell_type": "code",
   "execution_count": 284,
   "metadata": {},
   "outputs": [],
   "source": [
    "# From https://archive.ics.uci.edu/ml/datasets/Polish+companies+bankruptcy+data\n",
    "with open(\"../code_examples/data/polish_companies/5year.arff\", 'r') as f:\n",
    "\n",
    "    # Reading in data\n",
    "    while not '@data' in f.readline():\n",
    "        pass\n",
    "\n",
    "    dataset = []\n",
    "    for l in f:\n",
    "        if '?' in l: # Missing entry\n",
    "            continue # Skipping data points with missing entries\n",
    "        l = l.split(',')\n",
    "        values = [1] + [float(x) for x in l]\n",
    "        values[-1] = values[-1] > 0 # Convert to bool\n",
    "        dataset.append(values)"
   ]
  },
  {
   "cell_type": "code",
   "execution_count": 285,
   "metadata": {},
   "outputs": [],
   "source": [
    "# Balanced Error Rate function\n",
    "def balanced_error_rate(pred, labels):\n",
    "    TP_ = numpy.logical_and(pred, labels)\n",
    "    FP_ = numpy.logical_and(pred, numpy.logical_not(labels))\n",
    "    TN_ = numpy.logical_and(numpy.logical_not(pred), numpy.logical_not(labels))\n",
    "    FN_ = numpy.logical_and(numpy.logical_not(pred), labels)\n",
    "\n",
    "    TP = sum(TP_)\n",
    "    FP = sum(FP_)\n",
    "    TN = sum(TN_)\n",
    "    FN = sum(FN_)\n",
    "    \n",
    "    acc = (TP + TN) / (TP + FP + TN + FN)\n",
    "    BER = 1 - 0.5 * (TP / (TP + FN) + TN / (TN + FP))\n",
    "    return acc, BER"
   ]
  },
  {
   "cell_type": "code",
   "execution_count": 287,
   "metadata": {},
   "outputs": [
    {
     "name": "stdout",
     "output_type": "stream",
     "text": [
      "Accuracy: 0.9663477400197954\n",
      "BER: 0.26636363636363636\n"
     ]
    }
   ],
   "source": [
    "# Data setup\n",
    "X = [d[:-1] for d in dataset]\n",
    "y = [d[-1] for d in dataset]\n",
    "\n",
    "# Fit model\n",
    "mod = linear_model.LogisticRegression(C=1.0)\n",
    "mod.fit(X,y)\n",
    "\n",
    "pred = mod.predict(X)\n",
    "correct = pred == y\n",
    "#acc = sum(correct) / len(correct)\n",
    "acc , BER = balanced_error_rate(y, pred)\n",
    "\n",
    "print('Accuracy:', acc)\n",
    "print('BER:', BER)"
   ]
  },
  {
   "cell_type": "markdown",
   "metadata": {},
   "source": [
    "# Question 3"
   ]
  },
  {
   "cell_type": "code",
   "execution_count": 288,
   "metadata": {},
   "outputs": [],
   "source": [
    "def shuffle_data(X, y):\n",
    "    Xy = list(zip(X,y))\n",
    "    random.shuffle(Xy)\n",
    "    X, y = zip(*Xy)\n",
    "    return list(X), list(y)\n",
    "\n",
    "def split_data(X, y, percentages = (50,25,25)):\n",
    "    # percentages = (train, val, test) (percentages)\n",
    "    X_split = len(X) // 100 #1 percent of X\n",
    "    y_split = len(y) // 100 #1 percent of X\n",
    "    (train, val, test) = percentages\n",
    "    X_train, X_val, X_test = X[: X_split*train], X[X_split*train : X_split*(train + val)],\\\n",
    "                             X[X_split*(train + val): ]\n",
    "    y_train, y_val, y_test = y[: y_split*train], y[y_split*train : y_split*(train + val)],\\\n",
    "                             y[y_split*(train + val): ]\n",
    "    return X_train, X_val, X_test, y_train, y_val, y_test"
   ]
  },
  {
   "cell_type": "code",
   "execution_count": 305,
   "metadata": {},
   "outputs": [
    {
     "name": "stdout",
     "output_type": "stream",
     "text": [
      "Train accuracy:       0.764    Train BER:      0.209\n",
      "Validation accuracy:  0.740    Validation BER: 0.270\n",
      "Test accuracy:        0.764    Test BER:       0.301\n"
     ]
    }
   ],
   "source": [
    "X, y = shuffle_data(X, y)\n",
    "X_train, X_val, X_test, y_train, y_val, y_test =  split_data(X, y, (50,25,25))\n",
    "\n",
    "# Fit model\n",
    "mod_train = linear_model.LogisticRegression(C = 1.0, class_weight = 'balanced')\n",
    "mod_train.fit(X_train,y_train)\n",
    "\n",
    "pred_train = mod_train.predict(X_train)\n",
    "pred_val   = mod_train.predict(X_val)\n",
    "pred_test  = mod_train.predict(X_test)\n",
    "\n",
    "acc_train, BER_train =  balanced_error_rate(pred_train, y_train)\n",
    "acc_val,   BER_val   =  balanced_error_rate(pred_val, y_val)\n",
    "acc_test,  BER_test  =  balanced_error_rate(pred_test, y_test)\n",
    "print('Train accuracy:       {0:.3f}    Train BER:      {1:.3f}'.format(acc_train, BER_train))\n",
    "print('Validation accuracy:  {0:.3f}    Validation BER: {1:.3f}'.format(acc_val, BER_val))\n",
    "print('Test accuracy:        {0:.3f}    Test BER:       {1:.3f}'.format(acc_test, BER_test))"
   ]
  },
  {
   "cell_type": "markdown",
   "metadata": {},
   "source": [
    "# Question 4"
   ]
  },
  {
   "cell_type": "code",
   "execution_count": 280,
   "metadata": {},
   "outputs": [
    {
     "name": "stdout",
     "output_type": "stream",
     "text": [
      "0.0001\n",
      "0.001\n",
      "0.01\n",
      "0.1\n",
      "1\n",
      "10\n",
      "100\n",
      "1000\n",
      "10000\n"
     ]
    }
   ],
   "source": [
    "# Data already shuffled above\n",
    "\n",
    "C_values   = [10 ** i for i in range(-4,5)]\n",
    "accuracies = []\n",
    "BERs       = []\n",
    "\n",
    "# Regularization pipepline:\n",
    "for C_cur in C_values:\n",
    "    print(C_cur)\n",
    "    mod = linear_model.LogisticRegression(C = C_cur, class_weight = 'balanced')\n",
    "    mod.fit(X_train, y_train)\n",
    "    \n",
    "    pred_train = mod.predict(X_train)\n",
    "    pred_val   = mod.predict(X_val)\n",
    "    pred_test  = mod.predict(X_test)\n",
    "\n",
    "    acc_train, BER_train =  balanced_error_rate(pred_train, y_train)\n",
    "    acc_val,   BER_val   =  balanced_error_rate(pred_val, y_val)\n",
    "    acc_test,  BER_test  =  balanced_error_rate(pred_test, y_test)\n",
    "    \n",
    "    accuracies.append([acc_train, acc_val, acc_test])\n",
    "    BERs.append([BER_train, BER_val, BER_test])"
   ]
  },
  {
   "cell_type": "code",
   "execution_count": 332,
   "metadata": {
    "scrolled": true
   },
   "outputs": [
    {
     "data": {
      "image/png": "[encoded data removed]",
      "text/plain": [
       "<Figure size 432x288 with 1 Axes>"
      ]
     },
     "metadata": {
      "needs_background": "light"
     },
     "output_type": "display_data"
    }
   ],
   "source": [
    "plt.plot(C_values,[BER[0] for BER in BERs], label='Train BER')\n",
    "plt.plot(C_values,[BER[1] for BER in BERs], label='Validation BER')\n",
    "plt.plot(C_values,[BER[2] for BER in BERs], label='Test BER')\n",
    "plt.ylabel('BER')\n",
    "plt.xlabel('C Value'), plt.xscale('log'), plt.xticks(C_values)\n",
    "plt.title('BER vs C Value')\n",
    "plt.legend()\n",
    "plt.show()"
   ]
  },
  {
   "cell_type": "markdown",
   "metadata": {},
   "source": [
    "## Q4 ANSWER\n",
    "\n",
    "Consider I didn't have access to the test set (which is usually how things work). I would then choose C = 1. Because that is the number for which I get the lowest Balanced Error Rate from the validation set. We shouldn't be concerned with how C value effects the training set BER, as we need unseen data (validation set) to fine tune our parameters. (Here the parameter to fine tune is regularization parameter C.)\n",
    "\n",
    "In this question I also have access to the test set. From the performance on the test set, I see that C = 1 is best for low test set BER.  So for this particular shuffling & split of the data, and considering the test set accuracy, C = 1 was the best value indeed."
   ]
  },
  {
   "cell_type": "code",
   "execution_count": null,
   "metadata": {},
   "outputs": [],
   "source": [
    "# plt.plot(C_values,[accuracy[0] for accuracy in accuracies], label='Train')\n",
    "# plt.plot(C_values,[accuracy[1] for accuracy in accuracies], label='Validation')\n",
    "# plt.plot(C_values,[accuracy[2] for accuracy in accuracies], label='Test')\n",
    "# plt.ylabel('Accuracy')\n",
    "# plt.xlabel('C Value'), plt.xscale('log'), plt.xticks(C_values)\n",
    "# plt.title('Accuracy vs C Value')\n",
    "# plt.legend()\n",
    "# plt.show()"
   ]
  },
  {
   "cell_type": "markdown",
   "metadata": {},
   "source": [
    "# Question 6"
   ]
  },
  {
   "cell_type": "code",
   "execution_count": 306,
   "metadata": {},
   "outputs": [],
   "source": [
    "def F_Score(pred, labels, Beta = 1):\n",
    "    retrieved = sum(pred) # number of positivie predictions\n",
    "    relevant = sum(labels) # number of positive labels\n",
    "    intersection = sum([y and p for y,p in zip(labels,pred)])\n",
    "    precision = intersection / retrieved # (retrieved intersection relevant) / retrieved\n",
    "    recall    = intersection / relevant     # (retrieved intersection relevant) / relevant\n",
    "    F = (1 + Beta ** 2) * (precision * recall) / ((Beta ** 2) * precision + recall)\n",
    "    return F"
   ]
  },
  {
   "cell_type": "code",
   "execution_count": 307,
   "metadata": {},
   "outputs": [
    {
     "name": "stdout",
     "output_type": "stream",
     "text": [
      "Positives: 50 \n",
      "Negatives: 1450\n",
      "Uniform weight, F1 Score:  0.06451612903225806\n",
      "Uniform weight, F10 Score:  0.037352071005917156\n"
     ]
    }
   ],
   "source": [
    "weights = [1.0] * len(y_train)\n",
    "mod = linear_model.LogisticRegression(C = 1, solver='lbfgs')\n",
    "mod.fit(X_train, y_train, sample_weight=weights)\n",
    "\n",
    "pred_test  = mod.predict(X_test)\n",
    "\n",
    "F1 = F_Score(pred_test, y_test, Beta = 1)\n",
    "F10 = F_Score(pred_test, y_test, Beta = 10)\n",
    "\n",
    "positive_count = [point == True for point in y_train]\n",
    "negative_count = [point == False for point in y_train]\n",
    "print('Positives:', sum(positive_count), '\\nNegatives:', sum(negative_count))\n",
    "print('Uniform weight, F1 Score: ',  F1)\n",
    "print('Uniform weight, F10 Score: ', F10)"
   ]
  },
  {
   "cell_type": "code",
   "execution_count": 300,
   "metadata": {},
   "outputs": [],
   "source": [
    "positive_weights = range(5,51,5)\n",
    "negative_weight = 1\n",
    "F_Scores = []\n",
    "for positive_weight in positive_weights:\n",
    "    # A new weight vector is created in each iteration\n",
    "    weights = [positive_weight if i == True else negative_weight for i in y_train]\n",
    "    # New model is trained according to the new weight vector\n",
    "    mod = linear_model.LogisticRegression(C = 1, solver='lbfgs')\n",
    "    mod.fit(X_train, y_train, sample_weight = weights)\n",
    "\n",
    "    pred_test  = mod.predict(X_test)\n",
    "\n",
    "    F1 = F_Score(pred_test, y_test, Beta = 1)\n",
    "    F10 = F_Score(pred_test, y_test, Beta = 10)\n",
    "    F_Scores.append((F1, F10))"
   ]
  },
  {
   "cell_type": "code",
   "execution_count": 331,
   "metadata": {
    "scrolled": true
   },
   "outputs": [
    {
     "data": {
      "image/png": "[encoded data removed]",
      "text/plain": [
       "<Figure size 432x288 with 1 Axes>"
      ]
     },
     "metadata": {
      "needs_background": "light"
     },
     "output_type": "display_data"
    }
   ],
   "source": [
    "plt.plot(positive_weights,[F_Score[0] for F_Score in F_Scores], label='F1 Weighted')\n",
    "plt.plot(positive_weights,[F_Score[1] for F_Score in F_Scores], label='F10 Weighted')\n",
    "plt.plot(positive_weights, [F1] * len(positive_weights), label='F1 Uniform Weight')\n",
    "plt.plot(positive_weights, [F1] * len(positive_weights), label='F10 Uniform Weight')\n",
    "plt.ylabel('F_Scores')\n",
    "plt.xlabel('positive labeled point weights'), plt.xticks(positive_weights)\n",
    "plt.title('F_Scores vs weights of positive labeled points')\n",
    "plt.legend()\n",
    "plt.show()"
   ]
  },
  {
   "cell_type": "markdown",
   "metadata": {},
   "source": [
    "# Q6 ANSWER\n",
    "\n",
    "For this question, I decided to give larger weights to positively labeled data points. This is because there are very few of them, and to balance this they benefit from higher weights (in the model). These higher weights make the classifier focus more on the True Positive Rate. With this idea, I kept the negative label weights fixed at 1, and varied the weight of positive labeled data points. From the plot above we can see that the following weight vectors gave best results (for F1 and F10 seperately):\n",
    "   \n",
    "For F1:   \n",
    "   positive labels - weight 5   \n",
    "   negative labels - weight 1   \n",
    "    \n",
    "For F10:   \n",
    "    positive labels - weight 40   \n",
    "    negative labels - weight 1   \n",
    "   \n",
    "This is within my expectations. For the F1 score, precision and recall has equal contribution. Moderate positive weights (5 for positives) favor recall (and True Positive Rate) more than precision, but not by a large margin. F10 has a high Beta value (B = 10), which gives much more weight to recall. Very high weights (40) make us predict more of the positively labeled points correctly, increasing recall and therefore F10 Score. It reduces the precision, but this doesn't effect the F10 score much."
   ]
  },
  {
   "cell_type": "markdown",
   "metadata": {},
   "source": [
    "# Question 7"
   ]
  },
  {
   "cell_type": "code",
   "execution_count": 328,
   "metadata": {
    "scrolled": true
   },
   "outputs": [
    {
     "name": "stdout",
     "output_type": "stream",
     "text": [
      "There are 65 PCA Components\n",
      "First PCA Component:\n",
      " [-5.29202960e-19  1.33043608e-08  3.01828418e-07  1.47274093e-06\n",
      "  6.76386291e-06  8.40490801e-04 -1.30568738e-06  2.06682343e-06\n",
      "  7.23377455e-06 -8.73897166e-07 -8.40140858e-08  3.44607559e-07\n",
      "  1.94236269e-06  4.28742351e-07  2.06682343e-06 -9.74057737e-04\n",
      "  1.78806294e-06  8.02272170e-06  2.06682343e-06  4.87273604e-07\n",
      "  5.87299510e-05 -1.66296270e-05  3.02906685e-07  4.24600753e-07\n",
      "  6.64388756e-07  8.11565274e-07  1.61071258e-06 -4.65364645e-05\n",
      "  2.64556517e-06  4.23545973e-06 -1.75026675e-06  4.80585438e-07\n",
      " -7.74892407e-04  7.59745909e-06 -1.09617285e-06  2.56312314e-07\n",
      " -1.02373003e-06  9.63870105e-03 -5.77738247e-07  2.90954686e-07\n",
      "  2.90017358e-06  9.27405978e-07  3.44823396e-07  1.04975126e-04\n",
      "  4.62435386e-05 -2.65176695e-06  4.83216113e-06 -4.20247676e-04\n",
      "  3.53274872e-07  4.01931850e-07  5.95834553e-06 -1.05091716e-06\n",
      " -2.09917314e-06  4.66554027e-06  2.71958154e-06  9.99952223e-01\n",
      "  2.64713473e-07 -1.33709692e-07 -3.72307529e-07  1.71654246e-06\n",
      " -2.21438239e-04 -1.64828132e-05 -3.80869631e-04  9.33344875e-06\n",
      " -1.53802351e-05]\n"
     ]
    }
   ],
   "source": [
    "pca = PCA(len(X_train[1]))\n",
    "pca.fit(X_train)\n",
    "print('There are', pca.n_components_, 'PCA Components')\n",
    "print('First PCA Component:\\n', pca.components_[0])\n",
    "# mean_axis0 = numpy.mean(numpy.array(X_train), axis = 0)\n",
    "# print((pca.components_[0] - mean_axis0))"
   ]
  },
  {
   "cell_type": "markdown",
   "metadata": {},
   "source": [
    "# Question 8 "
   ]
  },
  {
   "cell_type": "code",
   "execution_count": 170,
   "metadata": {},
   "outputs": [],
   "source": [
    "X_pca_train = numpy.matmul(X_train, pca.components_.T)\n",
    "X_pca_val   = numpy.matmul(X_val,   pca.components_.T)\n",
    "X_pca_test  = numpy.matmul(X_test,  pca.components_.T)\n",
    "\n",
    "N_Components = range(5,31,5)\n",
    "BERs_PCA = []\n",
    "\n",
    "for N in N_Components:\n",
    "    # Extract first N components\n",
    "    pca_train, pca_val, pca_test = X_pca_train[:,:N], X_pca_val[:,:N], X_pca_test[:,:N]\n",
    "    mod = linear_model.LogisticRegression(C = 1, class_weight = 'balanced')\n",
    "    mod.fit(pca_train, y_train)\n",
    "    \n",
    "    pred_val   = mod.predict(pca_val)\n",
    "    pred_test  = mod.predict(pca_test)\n",
    "\n",
    "    _,  BER_val   =  balanced_error_rate(pred_val, y_val)\n",
    "    _,  BER_test  =  balanced_error_rate(pred_test, y_test)\n",
    "    \n",
    "    BERs_PCA.append((BER_val, BER_test))"
   ]
  },
  {
   "cell_type": "code",
   "execution_count": 329,
   "metadata": {},
   "outputs": [
    {
     "data": {
      "image/png": "[encoded data removed]",
      "text/plain": [
       "<Figure size 432x288 with 1 Axes>"
      ]
     },
     "metadata": {
      "needs_background": "light"
     },
     "output_type": "display_data"
    }
   ],
   "source": [
    "plt.plot(N_Components,[BER[0] for BER in BERs_PCA], label='Validation BER')\n",
    "plt.plot(N_Components,[BER[1] for BER in BERs_PCA], label='Test BER')\n",
    "plt.ylabel('BER')\n",
    "plt.xlabel('using first N pca comp.'), plt.xticks(N_Components)\n",
    "plt.title('using first N pca comp. vs BER')\n",
    "plt.legend()\n",
    "plt.show()"
   ]
  }
 ],
 "metadata": {
  "kernelspec": {
   "display_name": "Python 3",
   "language": "python",
   "name": "python3"
  },
  "language_info": {
   "codemirror_mode": {
    "name": "ipython",
    "version": 3
   },
   "file_extension": ".py",
   "mimetype": "text/x-python",
   "name": "python",
   "nbconvert_exporter": "python",
   "pygments_lexer": "ipython3",
   "version": "3.7.3"
  }
 },
 "nbformat": 4,
 "nbformat_minor": 2
}
