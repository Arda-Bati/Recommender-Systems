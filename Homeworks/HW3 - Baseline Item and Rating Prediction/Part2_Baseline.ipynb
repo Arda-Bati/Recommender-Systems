{
 "cells": [
  {
   "cell_type": "code",
   "execution_count": 1,
   "metadata": {},
   "outputs": [],
   "source": [
    "import gzip\n",
    "import random\n",
    "import numpy as np\n",
    "from collections import defaultdict\n",
    "import matplotlib.pyplot as plt\n",
    "from sklearn.metrics import mean_squared_error\n",
    "from sklearn.linear_model import LogisticRegression\n",
    "import warnings\n",
    "warnings.filterwarnings('ignore')"
   ]
  },
  {
   "cell_type": "code",
   "execution_count": 2,
   "metadata": {},
   "outputs": [],
   "source": [
    "def readGz(path):\n",
    "    for l in gzip.open(path, 'rt'):\n",
    "        yield eval(l)\n",
    "\n",
    "def readCSV(path):\n",
    "    f = gzip.open(path, 'rt')\n",
    "    f.readline()\n",
    "    for l in f:\n",
    "        yield l.strip().split(',')"
   ]
  },
  {
   "cell_type": "code",
   "execution_count": 3,
   "metadata": {
    "scrolled": true
   },
   "outputs": [
    {
     "name": "stdout",
     "output_type": "stream",
     "text": [
      "['u79354815', 'b14275065', '4']\n"
     ]
    }
   ],
   "source": [
    "example = readCSV(\"train_Interactions.csv.gz\")\n",
    "print(next(example))\n",
    "del example"
   ]
  },
  {
   "cell_type": "markdown",
   "metadata": {},
   "source": [
    "# Question 9"
   ]
  },
  {
   "cell_type": "code",
   "execution_count": 4,
   "metadata": {},
   "outputs": [],
   "source": [
    "### Ratings Prediction\n",
    "\n",
    "train_size = 150000\n",
    "val_size   = 10000\n",
    "data       = [line for line in readCSV(\"train_Interactions.csv.gz\")]\n",
    "train      = data[:train_size]\n",
    "val        = data[train_size:]\n",
    "\n",
    "allRatings = []\n",
    "userBookRatings = defaultdict(lambda: defaultdict(float))\n",
    "userRatings = defaultdict(list)\n",
    "userBooks   = defaultdict(set)\n",
    "bookUsers   = defaultdict(set)\n",
    "\n",
    "for user, book, rating in train:\n",
    "    rating = int(rating)\n",
    "    allRatings.append(rating)\n",
    "    userRatings[user].append(rating)\n",
    "    userBookRatings[user][book] = rating\n",
    "    userBooks[user].add(book)\n",
    "    bookUsers[book].add(user)\n",
    "\n",
    "globalAverage = sum(allRatings) / len(allRatings)\n",
    "userAverage = {}\n",
    "for user in userRatings:\n",
    "    userAverage[user] = sum(userRatings[user]) / len(userRatings[user])"
   ]
  },
  {
   "cell_type": "code",
   "execution_count": 5,
   "metadata": {},
   "outputs": [
    {
     "ename": "NameError",
     "evalue": "name 'all_users_lst' is not defined",
     "output_type": "error",
     "traceback": [
      "\u001b[1;31m---------------------------------------------------------------------------\u001b[0m",
      "\u001b[1;31mNameError\u001b[0m                                 Traceback (most recent call last)",
      "\u001b[1;32m<ipython-input-5-0c5600b96a49>\u001b[0m in \u001b[0;36m<module>\u001b[1;34m\u001b[0m\n\u001b[0;32m     44\u001b[0m     \u001b[1;32mreturn\u001b[0m \u001b[0malpha\u001b[0m\u001b[1;33m,\u001b[0m \u001b[0mbu\u001b[0m\u001b[1;33m,\u001b[0m \u001b[0mbb\u001b[0m\u001b[1;33m\u001b[0m\u001b[1;33m\u001b[0m\u001b[0m\n\u001b[0;32m     45\u001b[0m \u001b[1;33m\u001b[0m\u001b[0m\n\u001b[1;32m---> 46\u001b[1;33m \u001b[0malpha\u001b[0m\u001b[1;33m,\u001b[0m \u001b[0mbu\u001b[0m\u001b[1;33m,\u001b[0m \u001b[0mbb\u001b[0m \u001b[1;33m=\u001b[0m \u001b[0mcoordinate_descent\u001b[0m\u001b[1;33m(\u001b[0m\u001b[0mlambda_opt\u001b[0m \u001b[1;33m=\u001b[0m \u001b[1;36m1\u001b[0m\u001b[1;33m)\u001b[0m\u001b[1;33m\u001b[0m\u001b[1;33m\u001b[0m\u001b[0m\n\u001b[0m",
      "\u001b[1;32m<ipython-input-5-0c5600b96a49>\u001b[0m in \u001b[0;36mcoordinate_descent\u001b[1;34m(lambda_opt, iterations)\u001b[0m\n\u001b[0;32m     31\u001b[0m             \u001b[0mdiff\u001b[0m \u001b[1;33m=\u001b[0m \u001b[1;36m0\u001b[0m\u001b[1;33m\u001b[0m\u001b[1;33m\u001b[0m\u001b[0m\n\u001b[0;32m     32\u001b[0m             \u001b[1;32mfor\u001b[0m \u001b[0muser\u001b[0m\u001b[1;33m,\u001b[0m \u001b[0mbook\u001b[0m\u001b[1;33m,\u001b[0m \u001b[0mrating\u001b[0m \u001b[1;32min\u001b[0m \u001b[0mval\u001b[0m\u001b[1;33m:\u001b[0m\u001b[1;33m\u001b[0m\u001b[1;33m\u001b[0m\u001b[0m\n\u001b[1;32m---> 33\u001b[1;33m                 \u001b[1;32mif\u001b[0m \u001b[0muser\u001b[0m \u001b[1;32min\u001b[0m \u001b[0mall_users_lst\u001b[0m \u001b[1;32mand\u001b[0m \u001b[0mbook\u001b[0m \u001b[1;32min\u001b[0m \u001b[0mall_books_lst\u001b[0m\u001b[1;33m:\u001b[0m\u001b[1;33m\u001b[0m\u001b[1;33m\u001b[0m\u001b[0m\n\u001b[0m\u001b[0;32m     34\u001b[0m                     \u001b[0muser_ind\u001b[0m \u001b[1;33m=\u001b[0m \u001b[0mall_users_lst\u001b[0m\u001b[1;33m.\u001b[0m\u001b[0mindex\u001b[0m\u001b[1;33m(\u001b[0m\u001b[0muser\u001b[0m\u001b[1;33m)\u001b[0m\u001b[1;33m\u001b[0m\u001b[1;33m\u001b[0m\u001b[0m\n\u001b[0;32m     35\u001b[0m                     \u001b[0mbook_ind\u001b[0m \u001b[1;33m=\u001b[0m \u001b[0mall_books_lst\u001b[0m\u001b[1;33m.\u001b[0m\u001b[0mindex\u001b[0m\u001b[1;33m(\u001b[0m\u001b[0mbook\u001b[0m\u001b[1;33m)\u001b[0m\u001b[1;33m\u001b[0m\u001b[1;33m\u001b[0m\u001b[0m\n",
      "\u001b[1;31mNameError\u001b[0m: name 'all_users_lst' is not defined"
     ]
    }
   ],
   "source": [
    "# Coordinate Descent\n",
    "\n",
    "def coordinate_descent(lambda_opt = 1, iterations = 100):\n",
    "\n",
    "    alpha_sum, bu_sum, bb_sum = 0, 0, 0\n",
    "\n",
    "    train_len = len(train)\n",
    "    bu = defaultdict(lambda: 1)\n",
    "    bb = defaultdict(lambda: 1)\n",
    "\n",
    "    for descent in range(iterations):\n",
    "        alpha_sum = 0\n",
    "        for user, book, _ in train:\n",
    "            alpha_sum += userBookRatings[user][book] - (bu[user] + bb[book])\n",
    "        alpha = alpha_sum / train_len\n",
    "\n",
    "        for user in userRatings:\n",
    "            bu_sum = 0\n",
    "            for book in userBooks[user]:\n",
    "                bu_sum += userBookRatings[user][book] - (alpha + bb[book])\n",
    "            bu[user] = bu_sum / (lambda_opt + len(userBooks[user]))\n",
    "\n",
    "        for book in bookUsers:\n",
    "            bb_sum = 0\n",
    "            for user in bookUsers[book]:\n",
    "                bb_sum += userBookRatings[user][book] - (alpha + bu[user])\n",
    "            bb[book] = bb_sum / (lambda_opt + len(bookUsers[book]))\n",
    "            \n",
    "        if descent % 10 == 0:\n",
    "            rating_labels = []    \n",
    "            diff = 0\n",
    "            for user, book, rating in val:\n",
    "                if user in all_users_lst and book in all_books_lst: \n",
    "                    user_ind = all_users_lst.index(user)\n",
    "                    book_ind = all_books_lst.index(book)\n",
    "                    user_rating = alpha + bu[user] + bb[book] + gamma_u[user_ind] * gamma_b[book_ind]\n",
    "                else:\n",
    "                    user_rating = alpha + bu[user] + bb[book];\n",
    "                diff += (user_rating - int(rating)) ** 2\n",
    "\n",
    "            MSE = diff / len(val)\n",
    "            print('MSE on the validation set', MSE)\n",
    "            \n",
    "    return alpha, bu, bb\n",
    "\n",
    "alpha, bu, bb = coordinate_descent(lambda_opt = 1)"
   ]
  },
  {
   "cell_type": "code",
   "execution_count": null,
   "metadata": {},
   "outputs": [],
   "source": [
    "rating_labels = []\n",
    "diff = 0\n",
    "for user, book, rating in val:\n",
    "    user_rating = alpha + bu[user] + bb[book]\n",
    "    diff += (user_rating - int(rating)) ** 2\n",
    "\n",
    "MSE = diff / len(val)\n",
    "print(MSE)"
   ]
  },
  {
   "cell_type": "markdown",
   "metadata": {},
   "source": [
    "# Question 10"
   ]
  },
  {
   "cell_type": "markdown",
   "metadata": {},
   "source": [
    "# TODO"
   ]
  },
  {
   "cell_type": "markdown",
   "metadata": {},
   "source": [
    "# Question 11"
   ]
  },
  {
   "cell_type": "code",
   "execution_count": null,
   "metadata": {},
   "outputs": [],
   "source": [
    "lambda_values = np.logspace(-1, 1.5, num = 20)\n",
    "print(lambda_values)"
   ]
  },
  {
   "cell_type": "code",
   "execution_count": null,
   "metadata": {},
   "outputs": [],
   "source": [
    "MSEs = []\n",
    "loop_count = 0\n",
    "for lambda_opt in lambda_values:\n",
    "    loop_count += 1; print(loop_count, end = ', ')\n",
    "    alpha, bu, bb = coordinate_descent(lambda_opt, iterations = 20)\n",
    "    rating_labels = []\n",
    "    diff = 0\n",
    "    for user, book, rating in val:\n",
    "        user_rating = alpha + bu[user] + bb[book]\n",
    "        diff += (user_rating - int(rating)) ** 2\n",
    "    MSE = diff / len(val)\n",
    "    MSEs.append(MSE)"
   ]
  },
  {
   "cell_type": "code",
   "execution_count": null,
   "metadata": {},
   "outputs": [],
   "source": [
    "plt.plot(lambda_values, MSEs, label='Validation')\n",
    "plt.ylabel('MSE')\n",
    "plt.xlabel('lambda value'), plt.xscale('log')\n",
    "plt.title('MSE vs lambda values')\n",
    "plt.legend()\n",
    "plt.show()"
   ]
  },
  {
   "cell_type": "code",
   "execution_count": null,
   "metadata": {},
   "outputs": [],
   "source": [
    "indx = MSEs.index(min(MSEs))\n",
    "print('\\nLambda for lowest MSE is:', lambda_values[indx])\n",
    "print('\\nBest MSE is:', MSEs[indx])"
   ]
  },
  {
   "cell_type": "code",
   "execution_count": null,
   "metadata": {},
   "outputs": [],
   "source": [
    "alpha, bu, bb = coordinate_descent(2.8, iterations = 100)"
   ]
  },
  {
   "cell_type": "code",
   "execution_count": null,
   "metadata": {},
   "outputs": [],
   "source": [
    "with open(\"predictions_Rating.txt\", 'w') as predictions:\n",
    "    for l in open(\"pairs_Rating.txt\"):\n",
    "        if l.startswith(\"userID\"):\n",
    "            #header\n",
    "            predictions.write(l)\n",
    "            continue\n",
    "        user, book = l.strip().split('-')\n",
    "        user_rating = alpha + bu[user] + bb[book]\n",
    "        predictions.write(user + '-' + book + ',' + str(user_rating) + '\\n')"
   ]
  },
  {
   "cell_type": "code",
   "execution_count": null,
   "metadata": {},
   "outputs": [],
   "source": []
  }
 ],
 "metadata": {
  "kernelspec": {
   "display_name": "Python 3",
   "language": "python",
   "name": "python3"
  },
  "language_info": {
   "codemirror_mode": {
    "name": "ipython",
    "version": 3
   },
   "file_extension": ".py",
   "mimetype": "text/x-python",
   "name": "python",
   "nbconvert_exporter": "python",
   "pygments_lexer": "ipython3",
   "version": "3.7.3"
  }
 },
 "nbformat": 4,
 "nbformat_minor": 2
}
