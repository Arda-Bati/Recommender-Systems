{
 "cells": [
  {
   "cell_type": "code",
   "execution_count": 1,
   "metadata": {},
   "outputs": [],
   "source": [
    "import gzip\n",
    "import random\n",
    "import numpy as np\n",
    "from collections import defaultdict\n",
    "import matplotlib.pyplot as plt\n",
    "from sklearn.metrics import mean_squared_error\n",
    "from sklearn.linear_model import LogisticRegression\n",
    "import warnings\n",
    "warnings.filterwarnings('ignore')"
   ]
  },
  {
   "cell_type": "code",
   "execution_count": 2,
   "metadata": {},
   "outputs": [],
   "source": [
    "def readGz(path):\n",
    "    for l in gzip.open(path, 'rt'):\n",
    "        yield eval(l)\n",
    "\n",
    "def readCSV(path):\n",
    "    f = gzip.open(path, 'rt')\n",
    "    f.readline()\n",
    "    for l in f:\n",
    "        yield l.strip().split(',')"
   ]
  },
  {
   "cell_type": "code",
   "execution_count": 3,
   "metadata": {
    "scrolled": true
   },
   "outputs": [
    {
     "name": "stdout",
     "output_type": "stream",
     "text": [
      "['u79354815', 'b14275065', '4']\n"
     ]
    }
   ],
   "source": [
    "example = readCSV(\"train_Interactions.csv.gz\")\n",
    "print(next(example))\n",
    "del example"
   ]
  },
  {
   "cell_type": "markdown",
   "metadata": {},
   "source": [
    "# Question 1"
   ]
  },
  {
   "cell_type": "code",
   "execution_count": 4,
   "metadata": {},
   "outputs": [
    {
     "name": "stdout",
     "output_type": "stream",
     "text": [
      "200000\n",
      "190000\n",
      "10000\n"
     ]
    }
   ],
   "source": [
    "### Would-read baseline: just rank which books are \n",
    "### popular and which are not, and return '1' if a\n",
    "### book is among the top-ranked\n",
    "train_size = 190000\n",
    "val_size   = 10000\n",
    "\n",
    "data = [line for line in readCSV(\"train_Interactions.csv.gz\")]\n",
    "train = data[:train_size]\n",
    "val   = data[train_size:]\n",
    "print(len(data))\n",
    "print(len(train))\n",
    "print(len(val))"
   ]
  },
  {
   "cell_type": "code",
   "execution_count": 5,
   "metadata": {},
   "outputs": [
    {
     "name": "stdout",
     "output_type": "stream",
     "text": [
      "20000\n",
      "[['u35176258', 'b30592470', '3'], ['u30851063', 'b81941226', '3'], ['u31368414', 'b40097012', '5']]\n"
     ]
    }
   ],
   "source": [
    "booksReadBy = defaultdict(set)\n",
    "train_booksReadBy = defaultdict(set)\n",
    "val_booksReadBy = defaultdict(set)\n",
    "usersReadBook = defaultdict(set)\n",
    "val_usersReadBook = defaultdict(set)\n",
    "train_usersReadBook = defaultdict(set)\n",
    "all_books = set()\n",
    "val_all_books = set()\n",
    "train_all_books = set()\n",
    "    \n",
    "for user, book, _ in data:\n",
    "    all_books.add(book)\n",
    "    usersReadBook[book].add(user)\n",
    "    booksReadBy[user].add(book)\n",
    "\n",
    "for user, book, _ in train:\n",
    "    train_all_books.add(book)\n",
    "    train_usersReadBook[book].add(user)\n",
    "    train_booksReadBy[user].add(book)\n",
    "\n",
    "for user, book, _ in val:\n",
    "    val_all_books.add(book)\n",
    "    val_usersReadBook[book].add(user)\n",
    "    val_booksReadBy[user].add(book)\n",
    "\n",
    "val_unread = []\n",
    "all_books_count = len(all_books)\n",
    "for user, book, _ in val: \n",
    "    unread_book = random.sample(all_books, 1)\n",
    "    while(unread_book in list(booksReadBy[user])):\n",
    "        unread_book = random.sample(all_books, 1)\n",
    "    val_unread.append([user, str(unread_book[0]), '-1'])\n",
    "\n",
    "val = val + val_unread\n",
    "print(len(val))\n",
    "print(val[0:3])"
   ]
  },
  {
   "cell_type": "code",
   "execution_count": 6,
   "metadata": {},
   "outputs": [],
   "source": [
    "bookCount = defaultdict(int)\n",
    "total_books_read = 0\n",
    "\n",
    "for user, book, _ in train:\n",
    "    bookCount[book]  += 1\n",
    "    total_books_read += 1\n",
    "\n",
    "mostPopular = [(bookCount[book], book) for book in bookCount]\n",
    "mostPopular.sort()\n",
    "mostPopular.reverse()"
   ]
  },
  {
   "cell_type": "code",
   "execution_count": 7,
   "metadata": {},
   "outputs": [],
   "source": [
    "def popular_books_set(mostPopular, threshold_ratio):\n",
    "    return1 = set()\n",
    "    cur_book_count = 0\n",
    "    for book_count, book in mostPopular:\n",
    "        cur_book_count += book_count\n",
    "        return1.add(book)\n",
    "        if cur_book_count > total_books_read *\\\n",
    "        threshold_ratio: \n",
    "            break\n",
    "    return return1"
   ]
  },
  {
   "cell_type": "code",
   "execution_count": 8,
   "metadata": {},
   "outputs": [],
   "source": [
    "def jaccard(set1, set2):\n",
    "    \"\"\"\n",
    "    Returns the Jaccard similarity between two sets,\n",
    "    set1 & set2\n",
    "    \"\"\"\n",
    "    set_intersection = len(set1.intersection(set2))\n",
    "    set_union = len(set1.union(set2))\n",
    "    if set_union == 0:\n",
    "        return 0\n",
    "    else:\n",
    "        return set_intersection / set_union"
   ]
  },
  {
   "cell_type": "code",
   "execution_count": 9,
   "metadata": {},
   "outputs": [],
   "source": [
    "def jaccard_prediction(jac_sims):\n",
    "    \"\"\"\n",
    "    Returns the Jaccard similarity between two sets,\n",
    "    set1 & set2\n",
    "    \"\"\"\n",
    "    prediction = False\n",
    "    if jac_sims != []:\n",
    "        prediction = max(jac_sims) >= jaccard_threshold\n",
    "    return prediction"
   ]
  },
  {
   "cell_type": "code",
   "execution_count": 10,
   "metadata": {},
   "outputs": [],
   "source": [
    "def calc_jac(user, book_predict):\n",
    "    books_user_read = train_booksReadBy[user]\n",
    "    jac_sims = []\n",
    "    for users_book in books_user_read:   \n",
    "        users_read_book_predict = train_usersReadBook[book_predict]\n",
    "        users_read_users_book = train_usersReadBook[users_book]\n",
    "        jac_sim = jaccard(users_read_book_predict, users_read_users_book)\n",
    "        jac_sims.append(jac_sim)\n",
    "    return jac_sims"
   ]
  },
  {
   "cell_type": "code",
   "execution_count": 11,
   "metadata": {},
   "outputs": [],
   "source": [
    "# bookScores = defaultdict(int)\n",
    "# # for user, book, rating in train_LR:\n",
    "# #     bookScores[book] = (rating >= 0) * 2 - 1\n",
    "\n",
    "allRatings = []\n",
    "userBookRatings = defaultdict(lambda: defaultdict(float))\n",
    "userRatings = defaultdict(list)\n",
    "userBooks   = defaultdict(set)\n",
    "bookUsers   = defaultdict(set)\n",
    "\n",
    "for user, book, rating in train:\n",
    "    rating = int(rating)\n",
    "    allRatings.append(rating)\n",
    "    userRatings[user].append(rating)\n",
    "    userBookRatings[user][book] = rating\n",
    "    userBooks[user].add(book)\n",
    "    bookUsers[book].add(user)"
   ]
  },
  {
   "cell_type": "code",
   "execution_count": 12,
   "metadata": {},
   "outputs": [],
   "source": [
    "def cos_sim(book1, book2):\n",
    "    globalAverage = 3.897121052631579\n",
    "    users_read_both = list(train_usersReadBook[book1]) + list(train_usersReadBook[book2])\n",
    "    users_read_both = set(users_read_both)\n",
    "    book1_ratings = 0\n",
    "    book2_ratings = 0\n",
    "    zero_users = set()\n",
    "    for user in users_read_both:\n",
    "        if userBookRatings[user][book1] == 0: zero_users.add(user)\n",
    "        if userBookRatings[user][book2] == 0: zero_users.add(user)\n",
    "    for zero_user in zero_users:\n",
    "        users_read_both.remove(zero_user)\n",
    "\n",
    "    if len(users_read_both) == 0: return 0\n",
    "    numerator_sum = 0; denom_sum1 = 0; denom_sum2 = 0\n",
    "    \n",
    "    for user in users_read_both:\n",
    "        arg1 = (userBookRatings[user][book1] > globalAverage) * 2 - 1\n",
    "        arg2 = (userBookRatings[user][book2] > globalAverage) * 2 - 1\n",
    "        numerator_sum += arg1 * arg2\n",
    "        denom_sum1 += arg1 ** 2\n",
    "        denom_sum2 += arg2 ** 2\n",
    "        \n",
    "    denom = denom_sum1 * denom_sum2\n",
    "    if denom == 0: return 0\n",
    "    cosine_sim = numerator_sum / (denom ** 0.5)\n",
    "    return cosine_sim\n",
    "\n",
    "def pearson_sim(book1, book2):\n",
    "    users_read_both = list(train_usersReadBook[book1]) + list(train_usersReadBook[book2])\n",
    "    users_read_both = set(users_read_both)\n",
    "    book1_ratings = 0\n",
    "    book2_ratings = 0\n",
    "#     zero_users = set()\n",
    "#     for user in users_read_both:\n",
    "#         if userBookRatings[user][book1] == 0: zero_users.add(user)\n",
    "#         if userBookRatings[user][book2] == 0: zero_users.add(user)\n",
    "#     for zero_user in zero_users:\n",
    "#         users_read_both.remove(zero_user)\n",
    "    \n",
    "    if len(users_read_both) == 0: return 0\n",
    "\n",
    "    for user in users_read_both:\n",
    "        book1_ratings += userBookRatings[user][book1]\n",
    "        book2_ratings += userBookRatings[user][book2]\n",
    "    \n",
    "    book1_ratings = book1_ratings / len(users_read_both)\n",
    "    book2_ratings = book2_ratings / len(users_read_both)\n",
    "#     print(len(users_read_both))   \n",
    "#     print(book1_ratings, book2_ratings)\n",
    "    numerator_sum = 0; denom_sum1 = 0; denom_sum2 = 0\n",
    "    for user in users_read_both:\n",
    "        arg1 = (userBookRatings[user][book1] - book1_ratings)\n",
    "        arg2 = (userBookRatings[user][book2] - book2_ratings)\n",
    "        numerator_sum += arg1 * arg2\n",
    "        denom_sum1 += arg1 ** 2\n",
    "        denom_sum2 += arg2 ** 2\n",
    "        \n",
    "    denom = denom_sum1 * denom_sum2\n",
    "    if denom == 0: return 0\n",
    "    pearson_sim = numerator_sum / (denom ** 0.5)\n",
    "    return pearson_sim\n",
    "\n",
    "def pearson_simv2(user1, user2):\n",
    "    books_read_byboth = list(train_booksReadBy[user1]) + list(train_booksReadBy[user2])\n",
    "    books_read_byboth = set(books_read_byboth)\n",
    "    user1_ratings = 0\n",
    "    user2_ratings = 0\n",
    "#     zero_books = set()\n",
    "#     for book in books_read_byboth:\n",
    "#         if userBookRatings[user1][book] == 0: zero_books.add(book)\n",
    "#         if userBookRatings[user2][book] == 0: zero_books.add(book)\n",
    "#     for zero_book in zero_books:\n",
    "#         books_read_byboth.remove(zero_book)\n",
    "    \n",
    "    if len(books_read_byboth) == 0: return 0\n",
    "\n",
    "    for book in books_read_byboth:\n",
    "        user1_ratings += userBookRatings[user1][book]\n",
    "        user2_ratings += userBookRatings[user2][book]\n",
    "    \n",
    "    user1_ratings = user1_ratings / len(books_read_byboth)\n",
    "    user2_ratings = user2_ratings / len(books_read_byboth)\n",
    "    numerator_sum = 0; denom_sum1 = 0; denom_sum2 = 0\n",
    "    for book in books_read_byboth:\n",
    "        arg1 = (userBookRatings[user1][book] - user1_ratings)\n",
    "        arg2 = (userBookRatings[user2][book] - user2_ratings)\n",
    "        numerator_sum += arg1 * arg2\n",
    "        denom_sum1 += arg1 ** 2\n",
    "        denom_sum2 += arg2 ** 2\n",
    "        \n",
    "    denom = denom_sum1 * denom_sum2\n",
    "    if denom == 0: return 0\n",
    "    pearson_sim = numerator_sum / (denom ** 0.5)\n",
    "    return pearson_sim\n",
    "\n",
    "def calc_pearson(user, book_predict):\n",
    "    books_user_read = train_booksReadBy[user]\n",
    "    pears_sims = []\n",
    "    for users_book in books_user_read:  \n",
    "        pears_sim = pearson_sim(users_book, book_predict)\n",
    "        pears_sims.append(pears_sim)\n",
    "    return pears_sims\n",
    "\n",
    "def calc_pearson_train(user, book_predict):\n",
    "    books_user_read = train_booksReadBy[user]\n",
    "    pears_sims = []\n",
    "    for users_book in books_user_read:  \n",
    "        if users_book == book_predict: continue\n",
    "        pears_sim = pearson_sim(users_book, book_predict)\n",
    "        pears_sims.append(pears_sim)\n",
    "    return pears_sims\n",
    "\n",
    "def calc_cosine(user, book_predict):\n",
    "    books_user_read = train_booksReadBy[user]\n",
    "    cosine_sims = []\n",
    "    for users_book in books_user_read:  \n",
    "        cosine_sim = cos_sim(users_book, book_predict)\n",
    "        cosine_sims.append(cosine_sim)\n",
    "    return cosine_sims\n",
    "\n",
    "def calc_cosine_train(user, book_predict):\n",
    "    books_user_read = train_booksReadBy[user]\n",
    "    cosine_sims = []\n",
    "    for users_book in books_user_read:  \n",
    "        if users_book == book_predict: continue\n",
    "        cosine_sim = cos_sim(users_book, book_predict)\n",
    "        cosine_sims.append(cosine_sim)\n",
    "    return cosine_sims\n",
    "\n",
    "\n",
    "def calc_jac_train(user, book_predict):\n",
    "    books_user_read = train_booksReadBy[user]\n",
    "    jac_sims = []\n",
    "    for users_book in books_user_read:  \n",
    "        if users_book == book_predict: continue\n",
    "        users_read_book_predict = train_usersReadBook[book_predict]\n",
    "        users_read_users_book = train_usersReadBook[users_book]\n",
    "        jac_sim = jaccard(users_read_book_predict, users_read_users_book)\n",
    "        jac_sims.append(jac_sim)\n",
    "    return jac_sims\n",
    "\n",
    "def calc_jac(user, book_predict):\n",
    "    books_user_read = train_booksReadBy[user]\n",
    "    jac_sims = []\n",
    "    for users_book in books_user_read:   \n",
    "        users_read_book_predict = train_usersReadBook[book_predict]\n",
    "        users_read_users_book = train_usersReadBook[users_book]\n",
    "        jac_sim = jaccard(users_read_book_predict, users_read_users_book)\n",
    "        jac_sims.append(jac_sim)\n",
    "    return jac_sims\n",
    "\n",
    "def calc_pearsonv2(user, book):\n",
    "    users_read_book = train_usersReadBook[book]\n",
    "    pears_sims = []\n",
    "    for user_r in users_read_book:  \n",
    "        pears_sim = pearson_simv2(user, user_r)\n",
    "        pears_sims.append(pears_sim)\n",
    "    return pears_sims\n",
    "\n",
    "def calc_pearson_trainv2(user, book):\n",
    "    users_read_book = train_usersReadBook[book]\n",
    "    pears_sims = []\n",
    "    for user_r in users_read_book:  \n",
    "        if user_r == user: continue\n",
    "        pears_sim = pearson_simv2(user, user_r)\n",
    "        pears_sims.append(pears_sim)\n",
    "    return pears_sims"
   ]
  },
  {
   "cell_type": "code",
   "execution_count": null,
   "metadata": {},
   "outputs": [],
   "source": []
  },
  {
   "cell_type": "code",
   "execution_count": 20,
   "metadata": {},
   "outputs": [],
   "source": [
    "def feature(datum, func1, func2, func3):\n",
    "    user, book, _ = datum\n",
    "    feat = [1]\n",
    "    jac_sims = func1(user, book)\n",
    "    if len(jac_sims) == 0: jac_val = 0\n",
    "    else: jac_val = max(jac_sims)\n",
    "    feat.append(jac_val)\n",
    "    pop_val = book in return1\n",
    "    feat.append(pop_val)\n",
    "    \n",
    "#     pears_sims = func2(user, book)\n",
    "#     if len(pears_sims) == 0: pears_sim = 0\n",
    "#     else: \n",
    "#         pears_sim = max(pears_sims)\n",
    "#         if pears_sim == 1: pears_sim = 0 # Only one book in common, what to do?\n",
    "#     feat.append(pears_sim)\n",
    "         \n",
    "#     cosine_sims = func2(user, book)\n",
    "#     if len(cosine_sims) == 0: cosine_sim = 0\n",
    "#     else: \n",
    "#         cosine_sim = max(cosine_sims)\n",
    "#         # if abs(cosine_sim == 1): cosine_sim = 0\n",
    "#     feat.append(cosine_sim)\n",
    "    return feat"
   ]
  },
  {
   "cell_type": "code",
   "execution_count": 21,
   "metadata": {},
   "outputs": [],
   "source": [
    "train_LR = train\n",
    "train_unread = []\n",
    "\n",
    "for user, book, _ in train: \n",
    "    unread_book = random.sample(all_books, 1)\n",
    "    while(unread_book in list(booksReadBy[user])):\n",
    "        unread_book = random.sample(all_books, 1)\n",
    "    train_unread.append([user, str(unread_book[0]), '-1'])\n",
    "train_LR = train + train_unread"
   ]
  },
  {
   "cell_type": "code",
   "execution_count": null,
   "metadata": {},
   "outputs": [],
   "source": [
    "# random.shuffle(train_LR)\n",
    "# train_LR = train_LR[:50000]"
   ]
  },
  {
   "cell_type": "code",
   "execution_count": 22,
   "metadata": {},
   "outputs": [
    {
     "name": "stdout",
     "output_type": "stream",
     "text": [
      "here\n",
      "10000, 20000, 30000, 40000, 50000, 60000, 70000, 80000, 90000, 100000, 110000, 120000, 130000, 140000, 150000, 160000, 170000, 180000, 190000, 200000, 210000, 220000, 230000, 240000, 250000, 260000, 270000, 280000, 290000, 300000, 310000, 320000, 330000, 340000, 350000, 360000, 370000, 380000, "
     ]
    }
   ],
   "source": [
    "return1 = popular_books_set(mostPopular, 0.64)\n",
    "loop_count = 0\n",
    "LR_feat_train = []\n",
    "print('here')\n",
    "for d in train_LR:\n",
    "    loop_count += 1\n",
    "    if loop_count % 10000 == 0: print(loop_count, end = ', ');\n",
    "    LR_feat_train.append(feature(d, calc_jac_train, calc_cosine_train, _))"
   ]
  },
  {
   "cell_type": "code",
   "execution_count": 23,
   "metadata": {},
   "outputs": [],
   "source": [
    "# LR_feat_train   = np.array([feature(d, calc_jac_train, calc_pearson_train, calc_cosine_train) for d in train_LR])\n",
    "LR_feat_train = np.array(LR_feat_train)\n",
    "LR_labels_train = [int(rating) >= 0 for _, _, rating in train_LR]\n",
    "LR_feat_val  = np.array([feature(d, calc_jac, calc_cosine, _) for d in val])\n",
    "LR_labels_val = [int(rating) >= 0 for _, _, rating in val]"
   ]
  },
  {
   "cell_type": "code",
   "execution_count": 26,
   "metadata": {},
   "outputs": [
    {
     "name": "stdout",
     "output_type": "stream",
     "text": [
      "10, 20, 30, 40, "
     ]
    }
   ],
   "source": [
    "C_values = np.logspace(-2, -1, num = 40)\n",
    "accs = []\n",
    "loop_count = 0\n",
    "for C_value in C_values:\n",
    "    loop_count += 1\n",
    "    if loop_count % 10 == 0: print(loop_count, end = ', ')\n",
    "    clf = LogisticRegression(C = C_value).fit(LR_feat_train, LR_labels_train)\n",
    "    acc = clf.score(LR_feat_val, LR_labels_val)\n",
    "    accs.append(acc)"
   ]
  },
  {
   "cell_type": "code",
   "execution_count": 27,
   "metadata": {},
   "outputs": [
    {
     "data": {
      "image/png": "[encoded data removed]",
      "text/plain": [
       "<Figure size 432x288 with 1 Axes>"
      ]
     },
     "metadata": {
      "needs_background": "light"
     },
     "output_type": "display_data"
    },
    {
     "name": "stdout",
     "output_type": "stream",
     "text": [
      "\n",
      "C value for highest accuracy is: 0.043754793750741844\n",
      "Best validation accuracy is: 0.66425\n"
     ]
    }
   ],
   "source": [
    "plt.plot(C_values, accs, label='Validation')\n",
    "plt.ylabel('Validation accuracy')\n",
    "plt.xlabel('lambda value'), plt.xscale('log')\n",
    "plt.title('Validation accuracy vs C values')\n",
    "plt.legend()\n",
    "plt.show()\n",
    "\n",
    "indx = accs.index(max(accs))\n",
    "print('\\nC value for highest accuracy is:', C_values[indx])\n",
    "print('Best validation accuracy is:', accs[indx])"
   ]
  },
  {
   "cell_type": "code",
   "execution_count": 28,
   "metadata": {},
   "outputs": [],
   "source": [
    "clf = LogisticRegression(C = C_values[indx]).fit(LR_feat_train, LR_labels_train)\n",
    "def predict_datapoint_new(user, book_predict):\n",
    "    feat = np.array(feature((user, book_predict,_), calc_jac, calc_cosine, _))\n",
    "    feat = feat.reshape(1, -1)\n",
    "    prediction = clf.predict(feat)       \n",
    "    return prediction\n",
    "\n",
    "with open(\"predictions_Read.txt\", 'w') as predictions:\n",
    "    for l in open(\"pairs_Read.txt\"):\n",
    "        if l.startswith(\"userID\"): # it's just the header\n",
    "            predictions.write(l)\n",
    "            continue\n",
    "        user, book = l.strip().split('-') # it is a datapoint\n",
    "        prediction = predict_datapoint_new(user, book)\n",
    "        if prediction:\n",
    "            predictions.write(user + '-' + book + \",1\\n\")\n",
    "        else:\n",
    "            predictions.write(user + '-' + book + \",0\\n\")"
   ]
  },
  {
   "cell_type": "code",
   "execution_count": null,
   "metadata": {},
   "outputs": [],
   "source": []
  }
 ],
 "metadata": {
  "kernelspec": {
   "display_name": "Python 3",
   "language": "python",
   "name": "python3"
  },
  "language_info": {
   "codemirror_mode": {
    "name": "ipython",
    "version": 3
   },
   "file_extension": ".py",
   "mimetype": "text/x-python",
   "name": "python",
   "nbconvert_exporter": "python",
   "pygments_lexer": "ipython3",
   "version": "3.7.3"
  }
 },
 "nbformat": 4,
 "nbformat_minor": 2
}
