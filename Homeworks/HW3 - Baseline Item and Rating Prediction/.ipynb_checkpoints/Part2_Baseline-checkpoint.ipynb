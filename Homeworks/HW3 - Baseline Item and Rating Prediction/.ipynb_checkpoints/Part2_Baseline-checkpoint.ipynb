{
 "cells": [
  {
   "cell_type": "code",
   "execution_count": 1,
   "metadata": {},
   "outputs": [],
   "source": [
    "import gzip\n",
    "import random\n",
    "import numpy as np\n",
    "from collections import defaultdict\n",
    "import matplotlib.pyplot as plt\n",
    "from sklearn.metrics import mean_squared_error\n",
    "from sklearn.linear_model import LogisticRegression\n",
    "import warnings\n",
    "warnings.filterwarnings('ignore')"
   ]
  },
  {
   "cell_type": "code",
   "execution_count": 2,
   "metadata": {},
   "outputs": [],
   "source": [
    "def readGz(path):\n",
    "    for l in gzip.open(path, 'rt'):\n",
    "        yield eval(l)\n",
    "\n",
    "def readCSV(path):\n",
    "    f = gzip.open(path, 'rt')\n",
    "    f.readline()\n",
    "    for l in f:\n",
    "        yield l.strip().split(',')"
   ]
  },
  {
   "cell_type": "code",
   "execution_count": 3,
   "metadata": {
    "scrolled": true
   },
   "outputs": [
    {
     "name": "stdout",
     "output_type": "stream",
     "text": [
      "['u79354815', 'b14275065', '4']\n"
     ]
    }
   ],
   "source": [
    "example = readCSV(\"train_Interactions.csv.gz\")\n",
    "print(next(example))\n",
    "del example"
   ]
  },
  {
   "cell_type": "markdown",
   "metadata": {},
   "source": [
    "# Question 9"
   ]
  },
  {
   "cell_type": "code",
   "execution_count": 4,
   "metadata": {},
   "outputs": [],
   "source": [
    "### Ratings Prediction\n",
    "\n",
    "train_size = 150000\n",
    "val_size   = 10000\n",
    "data       = [line for line in readCSV(\"train_Interactions.csv.gz\")]\n",
    "train      = data[:train_size]\n",
    "val        = data[train_size:]\n",
    "\n",
    "allRatings = []\n",
    "userBookRatings = defaultdict(lambda: defaultdict(float))\n",
    "userRatings = defaultdict(list)\n",
    "userBooks   = defaultdict(set)\n",
    "bookUsers   = defaultdict(set)\n",
    "\n",
    "for user, book, rating in train:\n",
    "    rating = int(rating)\n",
    "    allRatings.append(rating)\n",
    "    userRatings[user].append(rating)\n",
    "    userBookRatings[user][book] = rating\n",
    "    userBooks[user].add(book)\n",
    "    bookUsers[book].add(user)\n",
    "\n",
    "globalAverage = sum(allRatings) / len(allRatings)\n",
    "userAverage = {}\n",
    "for user in userRatings:\n",
    "    userAverage[user] = sum(userRatings[user]) / len(userRatings[user])"
   ]
  },
  {
   "cell_type": "code",
   "execution_count": 5,
   "metadata": {},
   "outputs": [],
   "source": [
    "# Coordinate Descent\n",
    "\n",
    "def coordinate_descent(lambda_opt = 1, iterations = 100):\n",
    "\n",
    "    alpha_sum, bu_sum, bb_sum = 0, 0, 0\n",
    "\n",
    "    train_len = len(train)\n",
    "    bu = defaultdict(lambda: 1)\n",
    "    bb = defaultdict(lambda: 1)\n",
    "\n",
    "    for descent in range(iterations):\n",
    "        alpha_sum = 0\n",
    "        for user, book, _ in train:\n",
    "            alpha_sum += userBookRatings[user][book] - (bu[user] + bb[book])\n",
    "        alpha = alpha_sum / train_len\n",
    "\n",
    "        for user in userRatings:\n",
    "            bu_sum = 0\n",
    "            for book in userBooks[user]:\n",
    "                bu_sum += userBookRatings[user][book] - (alpha + bb[book])\n",
    "            bu[user] = bu_sum / (lambda_opt + len(userBooks[user]))\n",
    "\n",
    "        for book in bookUsers:\n",
    "            bb_sum = 0\n",
    "            for user in bookUsers[book]:\n",
    "                bb_sum += userBookRatings[user][book] - (alpha + bu[user])\n",
    "            bb[book] = bb_sum / (lambda_opt + len(bookUsers[book]))\n",
    "            \n",
    "    return alpha, bu, bb\n",
    "\n",
    "alpha, bu, bb = coordinate_descent(lambda_opt = 1)"
   ]
  },
  {
   "cell_type": "code",
   "execution_count": 6,
   "metadata": {},
   "outputs": [
    {
     "name": "stdout",
     "output_type": "stream",
     "text": [
      "1.1090811196426422\n"
     ]
    }
   ],
   "source": [
    "rating_labels = []\n",
    "diff = 0\n",
    "for user, book, rating in val:\n",
    "    user_rating = alpha + bu[user] + bb[book]\n",
    "    diff += (user_rating - int(rating)) ** 2\n",
    "\n",
    "MSE = diff / len(val)\n",
    "print(MSE)"
   ]
  },
  {
   "cell_type": "markdown",
   "metadata": {},
   "source": [
    "# Question 10"
   ]
  },
  {
   "cell_type": "markdown",
   "metadata": {},
   "source": [
    "# TODO"
   ]
  },
  {
   "cell_type": "markdown",
   "metadata": {},
   "source": [
    "# Question 11"
   ]
  },
  {
   "cell_type": "code",
   "execution_count": 7,
   "metadata": {},
   "outputs": [
    {
     "name": "stdout",
     "output_type": "stream",
     "text": [
      "[ 0.1         0.1159051   0.13433993  0.15570684  0.18047218  0.20917647\n",
      "  0.2424462   0.28100752  0.32570207  0.37750532  0.43754794  0.5071404\n",
      "  0.58780161  0.68129207  0.78965229  0.91524731  1.06081836  1.22954263\n",
      "  1.42510267  1.65176674  1.91448198  2.21898234  2.57191381  2.9809794\n",
      "  3.45510729  4.00464573  4.64158883  5.3798384   6.23550734  7.22727132\n",
      "  8.3767764   9.70911147 11.25335583 13.04321387 15.11775071 17.5222448\n",
      " 20.30917621 23.53937198 27.28333376 31.6227766 ]\n"
     ]
    }
   ],
   "source": [
    "lambda_values = np.logspace(-1, 1.5, num = 20)\n",
    "print(lambda_values)"
   ]
  },
  {
   "cell_type": "code",
   "execution_count": null,
   "metadata": {},
   "outputs": [
    {
     "name": "stdout",
     "output_type": "stream",
     "text": [
      "1, 2, 3, 4, 5, 6, 7, 8, 9, 10, 11, 12, 13, 14, 15, 16, 17, 18, 19, 20, 21, 22, 23, 24, 25, 26, 27, 28, 29, 30, 31, 32, 33, "
     ]
    }
   ],
   "source": [
    "MSEs = []\n",
    "loop_count = 0\n",
    "for lambda_opt in lambda_values:\n",
    "    loop_count += 1; print(loop_count, end = ', ')\n",
    "    alpha, bu, bb = coordinate_descent(lambda_opt, iterations = 20)\n",
    "    rating_labels = []\n",
    "    diff = 0\n",
    "    for user, book, rating in val:\n",
    "        user_rating = alpha + bu[user] + bb[book]\n",
    "        diff += (user_rating - int(rating)) ** 2\n",
    "    MSE = diff / len(val)\n",
    "    MSEs.append(MSE)"
   ]
  },
  {
   "cell_type": "code",
   "execution_count": null,
   "metadata": {},
   "outputs": [],
   "source": [
    "plt.plot(lambda_values, MSEs, label='Validation')\n",
    "plt.ylabel('MSE')\n",
    "plt.xlabel('lambda value'), plt.xscale('log')\n",
    "plt.title('MSE vs lambda values')\n",
    "plt.legend()\n",
    "plt.show()"
   ]
  },
  {
   "cell_type": "code",
   "execution_count": null,
   "metadata": {},
   "outputs": [],
   "source": [
    "indx = MSEs.index(min(MSEs))\n",
    "print('\\nLambda for lowest MSE is:', lambda_values[indx])\n",
    "print('\\nBest MSE is:', MSEs[indx])"
   ]
  },
  {
   "cell_type": "code",
   "execution_count": null,
   "metadata": {},
   "outputs": [],
   "source": [
    "alpha, bu, bb = coordinate_descent(2.8, iterations = 100)"
   ]
  },
  {
   "cell_type": "code",
   "execution_count": null,
   "metadata": {},
   "outputs": [],
   "source": [
    "with open(\"predictions_Rating.txt\", 'w') as predictions:\n",
    "    for l in open(\"pairs_Rating.txt\"):\n",
    "        if l.startswith(\"userID\"):\n",
    "            #header\n",
    "            predictions.write(l)\n",
    "            continue\n",
    "        user, book = l.strip().split('-')\n",
    "        user_rating = alpha + bu[user] + bb[book]\n",
    "        predictions.write(user + '-' + book + ',' + str(user_rating) + '\\n')"
   ]
  },
  {
   "cell_type": "code",
   "execution_count": null,
   "metadata": {},
   "outputs": [],
   "source": []
  }
 ],
 "metadata": {
  "kernelspec": {
   "display_name": "Python 3",
   "language": "python",
   "name": "python3"
  },
  "language_info": {
   "codemirror_mode": {
    "name": "ipython",
    "version": 3
   },
   "file_extension": ".py",
   "mimetype": "text/x-python",
   "name": "python",
   "nbconvert_exporter": "python",
   "pygments_lexer": "ipython3",
   "version": "3.7.3"
  }
 },
 "nbformat": 4,
 "nbformat_minor": 2
}
