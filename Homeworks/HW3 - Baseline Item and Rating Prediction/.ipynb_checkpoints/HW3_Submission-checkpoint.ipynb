{
 "cells": [
  {
   "cell_type": "code",
   "execution_count": 1,
   "metadata": {},
   "outputs": [],
   "source": [
    "import gzip\n",
    "import random\n",
    "import numpy as np\n",
    "from collections import defaultdict\n",
    "import matplotlib.pyplot as plt\n",
    "from sklearn.metrics import mean_squared_error\n",
    "from sklearn.linear_model import LogisticRegression\n",
    "import warnings\n",
    "warnings.filterwarnings('ignore')"
   ]
  },
  {
   "cell_type": "code",
   "execution_count": 2,
   "metadata": {},
   "outputs": [],
   "source": [
    "def readGz(path):\n",
    "    for l in gzip.open(path, 'rt'):\n",
    "        yield eval(l)\n",
    "\n",
    "def readCSV(path):\n",
    "    f = gzip.open(path, 'rt')\n",
    "    f.readline()\n",
    "    for l in f:\n",
    "        yield l.strip().split(',')"
   ]
  },
  {
   "cell_type": "code",
   "execution_count": 3,
   "metadata": {
    "scrolled": true
   },
   "outputs": [
    {
     "name": "stdout",
     "output_type": "stream",
     "text": [
      "['u79354815', 'b14275065', '4']\n"
     ]
    }
   ],
   "source": [
    "example = readCSV(\"train_Interactions.csv.gz\")\n",
    "print(next(example))\n",
    "del example"
   ]
  },
  {
   "cell_type": "markdown",
   "metadata": {},
   "source": [
    "# Question 1"
   ]
  },
  {
   "cell_type": "code",
   "execution_count": 4,
   "metadata": {},
   "outputs": [
    {
     "name": "stdout",
     "output_type": "stream",
     "text": [
      "200000\n",
      "190000\n",
      "10000\n"
     ]
    }
   ],
   "source": [
    "### Would-read\n",
    "\n",
    "train_size = 190000\n",
    "val_size   = 10000\n",
    "\n",
    "data = [line for line in readCSV(\"train_Interactions.csv.gz\")]\n",
    "train = data[:train_size]\n",
    "val   = data[train_size:]\n",
    "print(len(data))\n",
    "print(len(train))\n",
    "print(len(val))"
   ]
  },
  {
   "cell_type": "code",
   "execution_count": 5,
   "metadata": {},
   "outputs": [
    {
     "name": "stdout",
     "output_type": "stream",
     "text": [
      "20000\n",
      "[['u35176258', 'b30592470', '3'], ['u30851063', 'b81941226', '3'], ['u31368414', 'b40097012', '5']]\n"
     ]
    }
   ],
   "source": [
    "booksReadBy = defaultdict(set)\n",
    "train_booksReadBy = defaultdict(set)\n",
    "val_booksReadBy = defaultdict(set)\n",
    "usersReadBook = defaultdict(set)\n",
    "val_usersReadBook = defaultdict(set)\n",
    "train_usersReadBook = defaultdict(set)\n",
    "all_books = set()\n",
    "val_all_books = set()\n",
    "train_all_books = set()\n",
    "    \n",
    "for user, book, _ in data:\n",
    "    all_books.add(book)\n",
    "    usersReadBook[book].add(user)\n",
    "    booksReadBy[user].add(book)\n",
    "\n",
    "for user, book, _ in train:\n",
    "    train_all_books.add(book)\n",
    "    train_usersReadBook[book].add(user)\n",
    "    train_booksReadBy[user].add(book)\n",
    "\n",
    "for user, book, _ in val:\n",
    "    val_all_books.add(book)\n",
    "    val_usersReadBook[book].add(user)\n",
    "    val_booksReadBy[user].add(book)\n",
    "\n",
    "val_unread = []\n",
    "all_books_count = len(all_books)\n",
    "for user, book, _ in val: \n",
    "    unread_book = random.sample(all_books, 1)\n",
    "    while(unread_book in list(booksReadBy[user])):\n",
    "        unread_book = random.sample(all_books, 1)\n",
    "    val_unread.append([user, str(unread_book[0]), '-1'])\n",
    "\n",
    "val = val + val_unread\n",
    "print(len(val))\n",
    "print(val[0:3])"
   ]
  },
  {
   "cell_type": "code",
   "execution_count": 6,
   "metadata": {},
   "outputs": [],
   "source": [
    "bookCount = defaultdict(int)\n",
    "total_books_read = 0\n",
    "\n",
    "for user, book, _ in train:\n",
    "    bookCount[book]  += 1\n",
    "    total_books_read += 1\n",
    "\n",
    "mostPopular = [(bookCount[book], book) for book in bookCount]\n",
    "mostPopular.sort()\n",
    "mostPopular.reverse()"
   ]
  },
  {
   "cell_type": "markdown",
   "metadata": {},
   "source": [
    "# Question 9"
   ]
  },
  {
   "cell_type": "code",
   "execution_count": 7,
   "metadata": {},
   "outputs": [],
   "source": [
    "### Ratings Prediction\n",
    "train_size = 190000\n",
    "data       = [line for line in readCSV(\"train_Interactions.csv.gz\")]\n",
    "# random.shuffle(data)\n",
    "train      = data[:train_size]\n",
    "val        = data[train_size:]\n",
    "\n",
    "allRatings = []\n",
    "userBookRatings = defaultdict(lambda: defaultdict(float))\n",
    "userRatings = defaultdict(list)\n",
    "userBooks   = defaultdict(set)\n",
    "bookUsers   = defaultdict(set)\n",
    "all_users    = set()\n",
    "all_books    = set()\n",
    "\n",
    "for user, book, rating in train:\n",
    "    all_users.add(user)\n",
    "    all_books.add(book)\n",
    "    rating = int(rating)\n",
    "    allRatings.append(rating)\n",
    "    userRatings[user].append(rating)\n",
    "    userBookRatings[user][book] = rating\n",
    "    userBooks[user].add(book)\n",
    "    bookUsers[book].add(user)\n",
    "\n",
    "globalAverage = sum(allRatings) / len(allRatings)\n",
    "userAverage = {}\n",
    "for user in userRatings:\n",
    "    userAverage[user] = sum(userRatings[user]) / len(userRatings[user])"
   ]
  },
  {
   "cell_type": "code",
   "execution_count": 15,
   "metadata": {},
   "outputs": [],
   "source": [
    "# Coordinate Descent\n",
    "def coordinate_descent(lambda_opt = 1, threshold = 4 * 10**(-5), iterations = 20):\n",
    "\n",
    "    alpha_sum, bu_sum, bb_sum = 0, 0, 0\n",
    "\n",
    "    train_len = len(train)\n",
    "    bu = defaultdict(lambda: 1)\n",
    "    bb = defaultdict(lambda: 1)\n",
    "    alpha = 0\n",
    "    \n",
    "    conv = 1; prev_MSE = 1\n",
    "    #while(conv > threshold):\n",
    "    for i in range(iterations):\n",
    "        alpha_sum = 0\n",
    "        for user, book, _ in train:\n",
    "            alpha_sum += userBookRatings[user][book] - (bu[user] + bb[book])\n",
    "        alpha = alpha_sum / train_len\n",
    "\n",
    "        for user in userRatings:\n",
    "            bu_sum = 0\n",
    "            for book in userBooks[user]:\n",
    "                bu_sum += userBookRatings[user][book] - (alpha + bb[book])\n",
    "            bu[user] = bu_sum / (lambda_opt + len(userBooks[user]))\n",
    "\n",
    "        for book in bookUsers:\n",
    "            bb_sum = 0\n",
    "            for user in bookUsers[book]:\n",
    "                bb_sum += userBookRatings[user][book] - (alpha + bu[user])\n",
    "            bb[book] = bb_sum / (lambda_opt + len(bookUsers[book]))\n",
    "\n",
    "#         rating_labels = []\n",
    "#         diff = 0\n",
    "#         for user, book, rating in val:\n",
    "#             user_rating = alpha + bu[user] + bb[book]\n",
    "#             diff += (user_rating - int(rating)) ** 2\n",
    "\n",
    "#         cur_MSE = diff / len(val)\n",
    "#         conv = abs(cur_MSE / prev_MSE - 1)\n",
    "#         prev_MSE = cur_MSE\n",
    "        \n",
    "    return alpha, bu, bb"
   ]
  },
  {
   "cell_type": "code",
   "execution_count": 16,
   "metadata": {
    "scrolled": true
   },
   "outputs": [],
   "source": [
    "# # Coordinate Descent\n",
    "# lambda_opt = 1; threshold = 10**(-4)\n",
    "    \n",
    "# train_len = len(train)\n",
    "# k = 1\n",
    "# all_users_lst = list(all_users)\n",
    "# all_books_lst = list(all_books)\n",
    "# all_users_lst.sort()\n",
    "# all_books_lst.sort()\n",
    "\n",
    "# gamma_u = np.ones(len(all_users_lst)) * 0.5\n",
    "# gamma_b = np.ones(len(all_books_lst)) * 0.5\n",
    "# print(gamma_u)\n",
    "# print(gamma_b)\n",
    "\n",
    "# for i in range(2):\n",
    "#     count_p = 0\n",
    "#     count_n = 0\n",
    "#     for user_ind, user in enumerate(all_users):\n",
    "#         gamma_u_sum = 0\n",
    "#         count = 0\n",
    "#         for book_ind, book in enumerate(userBooks[user]):\n",
    "#             count += 1\n",
    "#             pred1 = alpha + bu[user] + bb[book]\n",
    "#             pred2 = gamma_u[user_ind] * gamma_b[book_ind]\n",
    "#             rating = userBookRatings[user][book]\n",
    "#             temp = rating - (pred1 + pred2)\n",
    "#             gamma_u_sum += gamma_b[book_ind] * temp\n",
    "#         gamma_u_sum = gamma_u_sum / ((count) * lambda_opt)\n",
    "#         gamma_u[user_ind] = gamma_u_sum\n",
    "#     print(gamma_u)\n",
    "#     for book_ind, book in enumerate(all_books):\n",
    "#         gamma_b_sum = 0\n",
    "#         count = 0\n",
    "#         for user_ind, user in enumerate(bookUsers[book]):\n",
    "#             count += 1\n",
    "#             pred1 = alpha + bu[user] + bb[book]\n",
    "#             pred2 = gamma_u[user_ind] * gamma_b[book_ind]\n",
    "#             rating = userBookRatings[user][book]\n",
    "#             temp = rating - (pred1 + pred2)\n",
    "#             gamma_b_sum += gamma_u[user_ind] * temp\n",
    "#         gamma_b_sum = gamma_b_sum / ((count) * lambda_opt)\n",
    "#         gamma_b[book_ind] = gamma_b_sum\n",
    "#     print(gamma_b)\n",
    "        "
   ]
  },
  {
   "cell_type": "code",
   "execution_count": 17,
   "metadata": {},
   "outputs": [],
   "source": [
    "# rating_labels = []\n",
    "# diff = 0\n",
    "# for user, book, rating in val:\n",
    "#     if user in all_users_lst or book in all_users_lst: \n",
    "#         user_ind = all_users_lst.index(user)\n",
    "#         book_ind = all_books_lst.index(book)\n",
    "#         user_rating = alpha + bu[user] + bb[book] + gamma_u[user_ind] + gamma_b[book_ind]\n",
    "#     else:\n",
    "#         print('here')\n",
    "#         user_rating = alpha + bu[user] + bb[book];\n",
    "#     diff += (user_rating - int(rating)) ** 2\n",
    "\n",
    "# MSE = diff / len(val)\n",
    "# print('MSE on the validation set', MSE)"
   ]
  },
  {
   "cell_type": "code",
   "execution_count": 12,
   "metadata": {},
   "outputs": [
    {
     "name": "stdout",
     "output_type": "stream",
     "text": [
      "[ 1.          1.29154967  1.66810054  2.15443469  2.7825594   3.59381366\n",
      "  4.64158883  5.9948425   7.74263683 10.        ]\n"
     ]
    }
   ],
   "source": [
    "lambda_values = np.logspace(0, 1, num = 10)\n",
    "# lambda_values = np.linspace(0, 10, num = 20)\n",
    "print(lambda_values)"
   ]
  },
  {
   "cell_type": "code",
   "execution_count": 18,
   "metadata": {},
   "outputs": [
    {
     "name": "stdout",
     "output_type": "stream",
     "text": [
      "1, 2, "
     ]
    },
    {
     "ename": "KeyboardInterrupt",
     "evalue": "",
     "output_type": "error",
     "traceback": [
      "\u001b[1;31m---------------------------------------------------------------------------\u001b[0m",
      "\u001b[1;31mKeyboardInterrupt\u001b[0m                         Traceback (most recent call last)",
      "\u001b[1;32m<ipython-input-18-493a8f5aba50>\u001b[0m in \u001b[0;36m<module>\u001b[1;34m\u001b[0m\n\u001b[0;32m      3\u001b[0m \u001b[1;32mfor\u001b[0m \u001b[0mlambda_opt\u001b[0m \u001b[1;32min\u001b[0m \u001b[0mlambda_values\u001b[0m\u001b[1;33m:\u001b[0m\u001b[1;33m\u001b[0m\u001b[1;33m\u001b[0m\u001b[0m\n\u001b[0;32m      4\u001b[0m     \u001b[0mloop_count\u001b[0m \u001b[1;33m+=\u001b[0m \u001b[1;36m1\u001b[0m\u001b[1;33m;\u001b[0m \u001b[0mprint\u001b[0m\u001b[1;33m(\u001b[0m\u001b[0mloop_count\u001b[0m\u001b[1;33m,\u001b[0m \u001b[0mend\u001b[0m \u001b[1;33m=\u001b[0m \u001b[1;34m', '\u001b[0m\u001b[1;33m)\u001b[0m\u001b[1;33m\u001b[0m\u001b[1;33m\u001b[0m\u001b[0m\n\u001b[1;32m----> 5\u001b[1;33m     \u001b[0malpha\u001b[0m\u001b[1;33m,\u001b[0m \u001b[0mbu\u001b[0m\u001b[1;33m,\u001b[0m \u001b[0mbb\u001b[0m \u001b[1;33m=\u001b[0m \u001b[0mcoordinate_descent\u001b[0m\u001b[1;33m(\u001b[0m\u001b[0mlambda_opt\u001b[0m\u001b[1;33m,\u001b[0m \u001b[0m_\u001b[0m\u001b[1;33m,\u001b[0m \u001b[1;36m20\u001b[0m\u001b[1;33m)\u001b[0m\u001b[1;33m\u001b[0m\u001b[1;33m\u001b[0m\u001b[0m\n\u001b[0m\u001b[0;32m      6\u001b[0m     \u001b[0mrating_labels\u001b[0m \u001b[1;33m=\u001b[0m \u001b[1;33m[\u001b[0m\u001b[1;33m]\u001b[0m\u001b[1;33m\u001b[0m\u001b[1;33m\u001b[0m\u001b[0m\n\u001b[0;32m      7\u001b[0m     \u001b[0mdiff\u001b[0m \u001b[1;33m=\u001b[0m \u001b[1;36m0\u001b[0m\u001b[1;33m\u001b[0m\u001b[1;33m\u001b[0m\u001b[0m\n",
      "\u001b[1;32m<ipython-input-15-fb334f78ba80>\u001b[0m in \u001b[0;36mcoordinate_descent\u001b[1;34m(lambda_opt, threshold, iterations)\u001b[0m\n\u001b[0;32m     14\u001b[0m         \u001b[0malpha_sum\u001b[0m \u001b[1;33m=\u001b[0m \u001b[1;36m0\u001b[0m\u001b[1;33m\u001b[0m\u001b[1;33m\u001b[0m\u001b[0m\n\u001b[0;32m     15\u001b[0m         \u001b[1;32mfor\u001b[0m \u001b[0muser\u001b[0m\u001b[1;33m,\u001b[0m \u001b[0mbook\u001b[0m\u001b[1;33m,\u001b[0m \u001b[0m_\u001b[0m \u001b[1;32min\u001b[0m \u001b[0mtrain\u001b[0m\u001b[1;33m:\u001b[0m\u001b[1;33m\u001b[0m\u001b[1;33m\u001b[0m\u001b[0m\n\u001b[1;32m---> 16\u001b[1;33m             \u001b[0malpha_sum\u001b[0m \u001b[1;33m+=\u001b[0m \u001b[0muserBookRatings\u001b[0m\u001b[1;33m[\u001b[0m\u001b[0muser\u001b[0m\u001b[1;33m]\u001b[0m\u001b[1;33m[\u001b[0m\u001b[0mbook\u001b[0m\u001b[1;33m]\u001b[0m \u001b[1;33m-\u001b[0m \u001b[1;33m(\u001b[0m\u001b[0mbu\u001b[0m\u001b[1;33m[\u001b[0m\u001b[0muser\u001b[0m\u001b[1;33m]\u001b[0m \u001b[1;33m+\u001b[0m \u001b[0mbb\u001b[0m\u001b[1;33m[\u001b[0m\u001b[0mbook\u001b[0m\u001b[1;33m]\u001b[0m\u001b[1;33m)\u001b[0m\u001b[1;33m\u001b[0m\u001b[1;33m\u001b[0m\u001b[0m\n\u001b[0m\u001b[0;32m     17\u001b[0m         \u001b[0malpha\u001b[0m \u001b[1;33m=\u001b[0m \u001b[0malpha_sum\u001b[0m \u001b[1;33m/\u001b[0m \u001b[0mtrain_len\u001b[0m\u001b[1;33m\u001b[0m\u001b[1;33m\u001b[0m\u001b[0m\n\u001b[0;32m     18\u001b[0m \u001b[1;33m\u001b[0m\u001b[0m\n",
      "\u001b[1;31mKeyboardInterrupt\u001b[0m: "
     ]
    }
   ],
   "source": [
    "MSEs = []\n",
    "loop_count = 0\n",
    "for lambda_opt in lambda_values:\n",
    "    loop_count += 1; print(loop_count, end = ', ')\n",
    "    alpha, bu, bb = coordinate_descent(lambda_opt, _, 20)\n",
    "    rating_labels = []\n",
    "    diff = 0\n",
    "    for user, book, rating in val:\n",
    "        user_rating = alpha + bu[user] + bb[book]\n",
    "        diff += (user_rating - int(rating)) ** 2\n",
    "    MSE = diff / len(val)\n",
    "    MSEs.append(MSE)"
   ]
  },
  {
   "cell_type": "code",
   "execution_count": null,
   "metadata": {},
   "outputs": [],
   "source": [
    "plt.plot(lambda_values, MSEs, label='Validation')\n",
    "plt.ylabel('MSE')\n",
    "plt.xlabel('lambda value'), plt.xscale('log')\n",
    "plt.title('MSE vs lambda values')\n",
    "plt.legend()\n",
    "plt.show()"
   ]
  },
  {
   "cell_type": "code",
   "execution_count": null,
   "metadata": {},
   "outputs": [],
   "source": [
    "indx = MSEs.index(min(MSEs))\n",
    "print('Lambda which has lowest MSE is:', lambda_values[indx])\n",
    "print('This lambda value has MSE:     ', MSEs[indx])"
   ]
  },
  {
   "cell_type": "code",
   "execution_count": null,
   "metadata": {},
   "outputs": [],
   "source": [
    "alpha, bu, bb = coordinate_descent(2.7, 10**(-4))"
   ]
  },
  {
   "cell_type": "code",
   "execution_count": null,
   "metadata": {},
   "outputs": [],
   "source": [
    "with open(\"predictions_Rating.txt\", 'w') as predictions:\n",
    "    for l in open(\"pairs_Rating.txt\"):\n",
    "        if l.startswith(\"userID\"):\n",
    "            #header\n",
    "            predictions.write(l)\n",
    "            continue\n",
    "        user, book = l.strip().split('-')\n",
    "        user_rating = alpha + bu[user] + bb[book]\n",
    "        predictions.write(user + '-' + book + ',' + str(user_rating) + '\\n')"
   ]
  },
  {
   "cell_type": "code",
   "execution_count": null,
   "metadata": {},
   "outputs": [],
   "source": []
  }
 ],
 "metadata": {
  "kernelspec": {
   "display_name": "Python 3",
   "language": "python",
   "name": "python3"
  },
  "language_info": {
   "codemirror_mode": {
    "name": "ipython",
    "version": 3
   },
   "file_extension": ".py",
   "mimetype": "text/x-python",
   "name": "python",
   "nbconvert_exporter": "python",
   "pygments_lexer": "ipython3",
   "version": "3.7.3"
  }
 },
 "nbformat": 4,
 "nbformat_minor": 2
}
