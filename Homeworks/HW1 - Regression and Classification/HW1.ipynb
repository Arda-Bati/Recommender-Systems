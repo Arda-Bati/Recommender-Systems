{
 "cells": [
  {
   "cell_type": "markdown",
   "metadata": {},
   "source": [
    "# Homework 1"
   ]
  },
  {
   "cell_type": "code",
   "execution_count": 1,
   "metadata": {},
   "outputs": [],
   "source": [
    "import csv\n",
    "import sys\n",
    "from collections import Counter\n",
    "import numpy as np\n",
    "import random\n",
    "from sklearn.metrics import mean_squared_error\n",
    "import matplotlib.pyplot as plt\n",
    "from sklearn.linear_model import LogisticRegression\n",
    "from sklearn.metrics import accuracy_score\n",
    "\n",
    "import warnings\n",
    "warnings.filterwarnings('ignore')"
   ]
  },
  {
   "cell_type": "code",
   "execution_count": 2,
   "metadata": {},
   "outputs": [],
   "source": [
    "csv.field_size_limit(sys.maxsize)\n",
    "\n",
    "with open('amazon_reviews_us_Gift_Card_v1_00.tsv', newline='') as csvfile:\n",
    "    reader = csv.reader(csvfile, delimiter='\\t', quotechar='|')\n",
    "    data = list(reader)"
   ]
  },
  {
   "cell_type": "markdown",
   "metadata": {},
   "source": [
    "# Question 1"
   ]
  },
  {
   "cell_type": "code",
   "execution_count": 3,
   "metadata": {},
   "outputs": [
    {
     "name": "stdout",
     "output_type": "stream",
     "text": [
      "['marketplace', 'customer_id', 'review_id', 'product_id', 'product_parent', 'product_title', 'product_category', 'star_rating', 'helpful_votes', 'total_votes', 'vine', 'verified_purchase', 'review_headline', 'review_body', 'review_date']\n",
      "[(1, 4793), (2, 1569), (3, 3156), (4, 9859), (5, 129709)]\n",
      "149086\n"
     ]
    }
   ],
   "source": [
    "#print(len(data))\n",
    "info = data[0]\n",
    "data = data[1:]\n",
    "print(info)\n",
    "\n",
    "ratings = [int(d[info.index('star_rating')]) for d in data]\n",
    "\n",
    "dict_rating = dict(Counter(ratings))\n",
    "rating_dist = []\n",
    "ratings_sum = 0\n",
    "\n",
    "for key in sorted(dict_rating.keys()):\n",
    "    value = dict_rating[key]\n",
    "    rating_dist.append((key, value))\n",
    "    ratings_sum += value\n",
    "    \n",
    "print(rating_dist)\n",
    "print(ratings_sum)"
   ]
  },
  {
   "cell_type": "markdown",
   "metadata": {},
   "source": [
    "## Q1 ANSWER: \n",
    "\n",
    "The disctribution of the dataset is as follows: (star_rating, #data points)\n",
    "(1, 4793), (2, 1569), (3, 3156), (4, 9859), (5, 129709)\n",
    "\n",
    "There are 149086 points in the dataset."
   ]
  },
  {
   "cell_type": "markdown",
   "metadata": {},
   "source": [
    "# Question 3"
   ]
  },
  {
   "cell_type": "code",
   "execution_count": 4,
   "metadata": {},
   "outputs": [
    {
     "name": "stdout",
     "output_type": "stream",
     "text": [
      "[ 4.84461817e+00  5.04148265e-02 -1.24659895e-03]\n"
     ]
    }
   ],
   "source": [
    "def feature(datum):\n",
    "    \"\"\"\n",
    "    Makes the following feature vector: [1, review verified, review_length]\n",
    "    \"\"\"\n",
    "    feat = [1]\n",
    "    feat.append(datum[info.index('verified_purchase')] == 'Y')\n",
    "    feat.append(len(datum[info.index('review_body')]))\n",
    "    return feat\n",
    "                              \n",
    "X = [feature(d) for d in data]\n",
    "y = [int(d[info.index('star_rating')]) for d in data]\n",
    "#y = [d['review/overall'] for d in data]\n",
    "\n",
    "theta,residuals,rank,s = np.linalg.lstsq(X, y)\n",
    "print(theta)"
   ]
  },
  {
   "cell_type": "markdown",
   "metadata": {},
   "source": [
    "## Q3 ANSWER\n",
    "\n",
    "Theta0 = 4.84461817e+00    -  Bias term   \n",
    "Theta1 = 5.04148265e-02    -  Verified_purchase coeffieicent   \n",
    "Theta2 = -1.24659895e-03   -  Review bodylength coeffieicent   \n",
    "\n",
    "Theta0, the bias term determines where our initial guess of rating starts from. If is not verified and has 0 length, we guess a 4.844.. rating for it. \n",
    "\n",
    "Theta1 is a positive coefficient, which means for verified purchases we are expecting higher star rating. The verified_purchase feature is either 0 or 1, so we are adding 0 or 5.04148265e-02 to the rating in each case, respectively. It makes a very small change to our prediction.\n",
    "\n",
    "Theta2 is a negative coefficient. This means the longer the review gets, the smaller star rating we are guessing for it. Our model is basically saying longer reviews mean lower ratings. Again, the coefficient is quite small compared to the bias term, but for very long reviews it could have a bigger impact."
   ]
  },
  {
   "cell_type": "markdown",
   "metadata": {},
   "source": [
    "# Question 4"
   ]
  },
  {
   "cell_type": "code",
   "execution_count": 20,
   "metadata": {},
   "outputs": [
    {
     "name": "stdout",
     "output_type": "stream",
     "text": [
      "[4.57758356 0.16852426]\n"
     ]
    }
   ],
   "source": [
    "def feature(datum):\n",
    "    \"\"\"\n",
    "    Makes the following feature vector: [1, review verified, review_length]\n",
    "    \"\"\"\n",
    "    feat = [1]\n",
    "    feat.append(datum[info.index('verified_purchase')] == 'Y')\n",
    "    return feat\n",
    "                              \n",
    "X = [feature(d) for d in data]\n",
    "y = [int(d[info.index('star_rating')]) for d in data]\n",
    "#y = [d['review/overall'] for d in data]\n",
    "\n",
    "theta,residuals,rank,s = np.linalg.lstsq(X, y)\n",
    "print(theta)"
   ]
  },
  {
   "cell_type": "markdown",
   "metadata": {},
   "source": [
    "## Q4 ANSWER\n",
    "\n",
    "Theta0 = 4.57758356    -  Bias term   \n",
    "Theta1 = 0.16852426    -  Verified_purchase coeffieicent   \n",
    "\n",
    "Here Theta0 is changed somewhat, but Theta1 changed significantly. Here we are considering a different portion of the dataset (meaning with a feature removed). This would effect our model because we are using different information to build the model. For example, there might be a correlation between verified_purchase and review body length, which would reduce their individual coefficients (mitigating double counting). The coefficient of star_rating might higher as it is a better source of information then before, because we don't have information about the body length. The same goes for Theta0 as well, but we can see that it is effected less.\n",
    "\n",
    "From a mathematical / geometric perspective, the subspace that our data points are in changes. This may cause a significant change in the hyperplane (or just normal plane) we are fitting on the points with linear regression. It depends on the characteristics of the distribution."
   ]
  },
  {
   "cell_type": "markdown",
   "metadata": {},
   "source": [
    "# Question 5"
   ]
  },
  {
   "cell_type": "code",
   "execution_count": 50,
   "metadata": {},
   "outputs": [],
   "source": [
    "data_len = len(data)\n",
    "train_size = int(data_len*0.9)\n",
    "test_size = data_len - train_size\n",
    "\n",
    "random.shuffle(data)\n",
    "\n",
    "features = np.array([feature(d) for d in data])\n",
    "labels   = np.array([int(d[info.index('star_rating')]) for d in data])\n",
    "\n",
    "X_train, y_train = features[:train_size], labels[:train_size]\n",
    "X_test, y_test = features[train_size:], labels[train_size:]"
   ]
  },
  {
   "cell_type": "code",
   "execution_count": 51,
   "metadata": {},
   "outputs": [],
   "source": [
    "theta,residuals,rank,s = np.linalg.lstsq(X_train, y_train)\n",
    "#print(theta)\n",
    "theta_m = np.array(theta)\n",
    "theta_m.shape = (2,1)\n",
    "rating_predictions_train = np.dot(X_train,theta_m)\n",
    "rating_predictions_test = np.dot(X_test,theta_m)"
   ]
  },
  {
   "cell_type": "code",
   "execution_count": 52,
   "metadata": {},
   "outputs": [],
   "source": [
    "# y_train.shape = rating_predictions_train.shape\n",
    "# y_test.shape = rating_predictions_test.shape\n",
    "# MSE_train = np.mean((rating_predictions_train - y_train)**2)\n",
    "# MSE_test  = np.mean((rating_predictions_test - y_test)**2)"
   ]
  },
  {
   "cell_type": "code",
   "execution_count": 53,
   "metadata": {},
   "outputs": [
    {
     "name": "stdout",
     "output_type": "stream",
     "text": [
      "Train set MSE =  0.684762379606768\n",
      "Test set MSE  =  0.6919309057128779\n"
     ]
    }
   ],
   "source": [
    "MSE_train = mean_squared_error(rating_predictions_train,y_train)\n",
    "MSE_test  = mean_squared_error(rating_predictions_test,y_test)\n",
    "print('Train set MSE = ', MSE_train)\n",
    "print('Test set MSE  = ', MSE_test)"
   ]
  },
  {
   "cell_type": "markdown",
   "metadata": {},
   "source": [
    "## Q5 ANSWER\n",
    "\n",
    "The answer to Question 5 is given in the print statements of the above cell.\n",
    "\n",
    "For this question, and any question involving train data / test data splits, I will always use shuffled data (as above). I know we are supposed to be in the learning process in this HW, but I believe my explanations for the shuffling will be enough.\n",
    "\n",
    "The shuffling is because the way the data is collected might have some type of order or bias in it. When we do splits, we are training on a subset of the data (the 90% in this case) but we are assuming it would have a similar distribution to the 100%. When we shuffle, me make our assumption stronger (but not fully correct)."
   ]
  },
  {
   "cell_type": "markdown",
   "metadata": {},
   "source": [
    "# Question 7"
   ]
  },
  {
   "cell_type": "code",
   "execution_count": 94,
   "metadata": {},
   "outputs": [],
   "source": [
    "runs_MSE_train = []\n",
    "runs_MSE_test = []\n",
    "train_percent_sizes = np.array(range(5,96,5))\n",
    "runs_range = 200\n",
    "\n",
    "for runs in range(runs_range):\n",
    "    \n",
    "    random.shuffle(data)\n",
    "    features = np.array([feature(d) for d in data])\n",
    "    labels   = np.array([int(d[info.index('star_rating')]) for d in data])\n",
    "\n",
    "    MSE_train_results = []\n",
    "    MSE_test_results  = []\n",
    "\n",
    "    for train_percent_size in train_percent_sizes:\n",
    "        train_size = int(data_len*(train_percent_size/100))\n",
    "        test_size = data_len - train_size\n",
    "\n",
    "        X_train, y_train = features[:train_size], labels[:train_size]\n",
    "        X_test, y_test = features[train_size:], labels[train_size:]\n",
    "\n",
    "        theta,residuals,rank,s = np.linalg.lstsq(X_train, y_train)\n",
    "\n",
    "        theta_m = np.array(theta)\n",
    "        theta_m.shape = (2,1)\n",
    "        rating_predictions_train = np.dot(X_train,theta_m)\n",
    "        rating_predictions_test = np.dot(X_test,theta_m)\n",
    "\n",
    "        MSE_train = mean_squared_error(rating_predictions_train,y_train)\n",
    "        MSE_test  = mean_squared_error(rating_predictions_test,y_test)\n",
    "\n",
    "        MSE_train_results.append(MSE_train)\n",
    "        MSE_test_results.append(MSE_test)\n",
    "        \n",
    "    runs_MSE_train.append(MSE_train_results)\n",
    "    runs_MSE_test.append(MSE_test_results)\n",
    "    \n",
    "#runs_MSE_train = np.array(runs_MSE_train)\n",
    "#runs_MSE_test = np.array(runs_MSE_test)"
   ]
  },
  {
   "cell_type": "code",
   "execution_count": 99,
   "metadata": {
    "scrolled": true
   },
   "outputs": [
    {
     "data": {
      "image/png": "[encoded data removed]",
      "text/plain": [
       "<Figure size 432x288 with 1 Axes>"
      ]
     },
     "metadata": {
      "needs_background": "light"
     },
     "output_type": "display_data"
    }
   ],
   "source": [
    "train_MSE_avgs = np.mean(runs_MSE_train, axis=0)\n",
    "test_MSE_avgs = np.mean(runs_MSE_test, axis=0)\n",
    "plt.plot(train_percent_sizes,train_MSE_avgs, label='Train')\n",
    "plt.plot(train_percent_sizes,test_MSE_avgs, label='Test')\n",
    "plt.ylabel('MSE')\n",
    "plt.xlabel('% train set size')\n",
    "plt.title('%train set size vs MSE for train & test sets')\n",
    "plt.legend()\n",
    "plt.show()"
   ]
  },
  {
   "cell_type": "markdown",
   "metadata": {},
   "source": [
    "## Q7 ANSWER\n",
    "\n",
    "To answer this question, I ran 200 seperate tests, each including a different initial shuffling of the dataset. I found that for individual tests, the train / test errors vary greatly, so it is harder to make an accurate statement. I am not sure if 200 tests are enough, but the number comes from the limits of my laptop.\n",
    "\n",
    "The test MSE is lowest at the split: 75% train, 25% test. The values of MSE for test range from 0.686 to 0.687, so the split is not making much of a difference. Normally, we would expect it to make a significant impact considering splits like 5% train, %test 95. I think this shows us that we are not learning something very useful with the model. The model is probably not complex enough to capture the characteristics of the underlying distribution. Therefore it is quite insensitive to new data, and not effected from the split size too much. It acts similar to how an over regularized model would react to new data. Our model is similarly over simplified."
   ]
  },
  {
   "cell_type": "markdown",
   "metadata": {},
   "source": [
    "# Question 8"
   ]
  },
  {
   "cell_type": "code",
   "execution_count": 127,
   "metadata": {},
   "outputs": [],
   "source": [
    "def feature(datum):\n",
    "    \"\"\"\n",
    "    \"\"\"\n",
    "    feat = [1]\n",
    "    feat.append(int(datum[info.index('star_rating')]))\n",
    "    feat.append(len(datum[info.index('review_body')]))\n",
    "    return feat\n",
    "                      \n",
    "train_size = int(data_len*0.9)\n",
    "test_size = data_len - train_size\n",
    "\n",
    "features = np.array([feature(d) for d in data])\n",
    "labels   = np.array([d[info.index('verified_purchase')] == 'Y' for d in data])\n",
    "X_train, y_train = features[:train_size], labels[:train_size]\n",
    "X_test, y_test = features[train_size:], labels[train_size:]"
   ]
  },
  {
   "cell_type": "code",
   "execution_count": 128,
   "metadata": {
    "scrolled": true
   },
   "outputs": [
    {
     "name": "stdout",
     "output_type": "stream",
     "text": [
      "0.9093835938024012\n",
      "0.9106579918170232\n",
      "0.997384130391039\n"
     ]
    }
   ],
   "source": [
    "clf = LogisticRegression(C = 1).fit(X_train, y_train)\n",
    "accuracy = clf.score(X_test, y_test)\n",
    "\n",
    "#Proportion of reviews that are verified (labels)\n",
    "labels_verified = sum(y_test)/len(y_test)\n",
    "\n",
    "#Proportion of reviews that are verified (predictions)\n",
    "predictions = clf.predict(X_test)\n",
    "predictions_verified = sum(predictions*1)/len(y_test)#/data_len\n",
    "\n",
    "print(accuracy)\n",
    "print(labels_verified)\n",
    "print(predictions_verified)"
   ]
  },
  {
   "cell_type": "markdown",
   "metadata": {},
   "source": [
    "##  Q8 ANSWER\n",
    "\n",
    "The accuracy is around 0.909   \n",
    "The proportion of labels that are positive is around 0.910     \n",
    "The proportion of predictions that are positive are 0.997     \n",
    "\n",
    "We see that if we predicted True all the time, we would have higher accuracy (0.909) then our current accuracy (0.910) because of the proportion of labels that are positive. Our model is learning a bit more than that, but the 0.997 positive prediction ratio shows that it is almost labeling everything as positive."
   ]
  },
  {
   "cell_type": "markdown",
   "metadata": {},
   "source": [
    "# Question 9"
   ]
  },
  {
   "cell_type": "code",
   "execution_count": 115,
   "metadata": {},
   "outputs": [
    {
     "name": "stdout",
     "output_type": "stream",
     "text": [
      "['marketplace', 'customer_id', 'review_id', 'product_id', 'product_parent', 'product_title', 'product_category', 'star_rating', 'helpful_votes', 'total_votes', 'vine', 'verified_purchase', 'review_headline', 'review_body', 'review_date']\n"
     ]
    }
   ],
   "source": [
    "print(info)"
   ]
  },
  {
   "cell_type": "code",
   "execution_count": 116,
   "metadata": {},
   "outputs": [],
   "source": [
    "verified_purchases = [d for d in data if d[info.index('verified_purchase')] == 'Y']\n",
    "unverified_purchases = [d for d in data if d[info.index('verified_purchase')] == 'N']\n",
    "#unverified_purchases[200:240]"
   ]
  },
  {
   "cell_type": "code",
   "execution_count": 120,
   "metadata": {},
   "outputs": [],
   "source": [
    "def feature(datum):\n",
    "    \"\"\"\n",
    "    \"\"\"\n",
    "    feat = [1]\n",
    "#     feat.append(int(datum[info.index('star_rating')]))           # Rating\n",
    "#     feat.append(len(datum[info.index('review_headline')]))       # Review headline length\n",
    "#     feat.append(len(datum[info.index('review_headline')])**2)    # Review headline length squared\n",
    "    feat.append(len(datum[info.index('review_body')]))\n",
    "    feat.append(len(datum[info.index('review_body')])**2)           # Review body length\n",
    "#     feat.append(int(datum[info.index('total_votes')]))           # Review body length\n",
    "    return feat\n",
    "                      \n",
    "train_size = int(data_len*0.9)\n",
    "test_size = data_len - train_size\n",
    "\n",
    "features = np.array([feature(d) for d in data])\n",
    "labels   = np.array([d[info.index('verified_purchase')] == 'Y' for d in data])\n",
    "\n",
    "X_train, y_train = features[:train_size], labels[:train_size]\n",
    "X_test, y_test = features[train_size:], labels[train_size:]"
   ]
  },
  {
   "cell_type": "code",
   "execution_count": 121,
   "metadata": {},
   "outputs": [
    {
     "name": "stdout",
     "output_type": "stream",
     "text": [
      "Test acc  0.911127506875042\n",
      "Train acc  0.9122129724170313\n",
      "0.9113958011939097\n",
      "0.9991951170433966\n"
     ]
    }
   ],
   "source": [
    "clf2 = LogisticRegression(C = 1).fit(X_train, y_train)\n",
    "test_accuracy  = clf2.score(X_test, y_test)\n",
    "train_accuracy = clf2.score(X_train, y_train)\n",
    "\n",
    "#Proportion of reviews that are verified (labels)\n",
    "labels_verified = sum(y_test)/len(y_test)\n",
    "\n",
    "#Proportion of reviews that are verified (predictions)\n",
    "\n",
    "predictions2 = clf2.predict(X_test)\n",
    "predictions_verified = sum(predictions2*1)/len(y_test)#/data_len\n",
    "\n",
    "print('Test acc ', test_accuracy)\n",
    "print('Train acc ',train_accuracy)\n",
    "print(labels_verified)\n",
    "print(predictions_verified)"
   ]
  },
  {
   "cell_type": "markdown",
   "metadata": {},
   "source": [
    "## Q9 ANSWER\n",
    "\n",
    "The Feature Vector designed is:\n",
    "\n",
    "\\[review_body_length, review_body_length \\** 2\\]. \n",
    "\n",
    "With the added bias term: \n",
    "\n",
    "\\[1, review_body_length, review_body_length ** 2\\]\n",
    "\n",
    "which leads to the equation:\n",
    "\n",
    "P(review is verified) = sigma(Theta0 + Theta1 x (review_body_length) + Theta2 x (review_body_length)\\**2)\n",
    "\n",
    "Train accuracy: 0.9122   \n",
    "Test accuracy:  0.9111\n",
    "\n",
    "This feature vector has higher test accuracy (0.911) then the (0.909) of before. However this may be due to the way the data was shuffled initially. There is some randomness in the process.\n",
    "\n",
    "Also all this model does seems to be having an even higher positive prediction rate (0.9991), which makes it more accurate on paper. However this doesn't necessarily mean it is a better model, since it isn't probably learning something useful, apart from saying each data point is positive. We should look at metrics such as precision and recall, false positive and false negative rates, etc."
   ]
  }
 ],
 "metadata": {
  "kernelspec": {
   "display_name": "Python 3",
   "language": "python",
   "name": "python3"
  },
  "language_info": {
   "codemirror_mode": {
    "name": "ipython",
    "version": 3
   },
   "file_extension": ".py",
   "mimetype": "text/x-python",
   "name": "python",
   "nbconvert_exporter": "python",
   "pygments_lexer": "ipython3",
   "version": "3.7.3"
  }
 },
 "nbformat": 4,
 "nbformat_minor": 2
}
