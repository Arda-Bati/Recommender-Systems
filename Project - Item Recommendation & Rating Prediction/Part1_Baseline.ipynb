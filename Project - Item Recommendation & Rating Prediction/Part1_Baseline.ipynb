{
 "cells": [
  {
   "cell_type": "code",
   "execution_count": 1,
   "metadata": {},
   "outputs": [],
   "source": [
    "import gzip\n",
    "import random\n",
    "import numpy as np\n",
    "from collections import defaultdict\n",
    "import matplotlib.pyplot as plt\n",
    "from sklearn.metrics import mean_squared_error\n",
    "from sklearn.linear_model import LogisticRegression\n",
    "import warnings\n",
    "warnings.filterwarnings('ignore')"
   ]
  },
  {
   "cell_type": "code",
   "execution_count": 2,
   "metadata": {},
   "outputs": [],
   "source": [
    "def readGz(path):\n",
    "    for l in gzip.open(path, 'rt'):\n",
    "        yield eval(l)\n",
    "\n",
    "def readCSV(path):\n",
    "    f = gzip.open(path, 'rt')\n",
    "    f.readline()\n",
    "    for l in f:\n",
    "        yield l.strip().split(',')"
   ]
  },
  {
   "cell_type": "code",
   "execution_count": 3,
   "metadata": {},
   "outputs": [],
   "source": [
    "rating_read = []"
   ]
  },
  {
   "cell_type": "code",
   "execution_count": 4,
   "metadata": {},
   "outputs": [],
   "source": [
    "with open(\"predictions_Rating.txt\", 'w') as predictions:\n",
    "    for l in open(\"pairs_Rating.txt\"):\n",
    "        if l.startswith(\"userID\"):\n",
    "            #header\n",
    "            predictions.write(l)\n",
    "            continue\n",
    "        user, book = l.strip().split('-')\n",
    "        rating_read.append((user, book, 4))"
   ]
  },
  {
   "cell_type": "code",
   "execution_count": 5,
   "metadata": {},
   "outputs": [
    {
     "name": "stdout",
     "output_type": "stream",
     "text": [
      "210000\n",
      "200000\n",
      "10000\n"
     ]
    }
   ],
   "source": [
    "### Would-read baseline: just rank which books are \n",
    "### popular and which are not, and return '1' if a\n",
    "### book is among the top-ranked\n",
    "train_size = 200000\n",
    "\n",
    "data = [line for line in readCSV(\"train_Interactions.csv.gz\")]\n",
    "random.shuffle(data)\n",
    "data = data + rating_read\n",
    "train = data[:train_size]\n",
    "val   = data[train_size:]\n",
    "print(len(data))\n",
    "print(len(train))\n",
    "print(len(val))"
   ]
  },
  {
   "cell_type": "code",
   "execution_count": 6,
   "metadata": {},
   "outputs": [],
   "source": [
    "allRatings = []\n",
    "userBookRatings = defaultdict(lambda: defaultdict(float))\n",
    "train_booksReadBy = defaultdict(set)\n",
    "train_usersReadBook = defaultdict(set)\n",
    "train_all_books = set()\n",
    "all_booksReadBy = defaultdict(set)\n",
    "all_usersReadBook = defaultdict(set)\n",
    "all_books    = set()\n",
    "all_users    = set()\n",
    "    \n",
    "for user, book, rating in data:\n",
    "    rating = int(rating)\n",
    "    allRatings.append(rating)\n",
    "    all_booksReadBy[user].add(book)\n",
    "    all_usersReadBook[book].add(user)\n",
    "    all_books.add(book)\n",
    "    all_users.add(user)\n",
    "    \n",
    "for user, book, rating in train:\n",
    "    userBookRatings[user][book] = int(rating)\n",
    "    train_all_books.add(book)\n",
    "    train_usersReadBook[book].add(user)\n",
    "    train_booksReadBy[user].add(book)\n",
    "    \n",
    "bookCount = defaultdict(int)\n",
    "userCount = defaultdict(int)\n",
    "total_books_read = 0\n",
    "\n",
    "for user, book, _ in train:\n",
    "    bookCount[book]  += 1\n",
    "    total_books_read += 1\n",
    "\n",
    "mostPopular      = [(bookCount[book], book) for book in bookCount]\n",
    "mostPopular.sort(reverse = True)\n",
    "def popular_books_set(mostPopular, threshold_ratio):\n",
    "    return1 = set()\n",
    "    cur_book_count = 0\n",
    "    for book_count, book in mostPopular:\n",
    "        cur_book_count += book_count\n",
    "        return1.add(book)\n",
    "        if cur_book_count > total_books_read * threshold_ratio: \n",
    "            break\n",
    "    return return1"
   ]
  },
  {
   "cell_type": "code",
   "execution_count": 7,
   "metadata": {},
   "outputs": [
    {
     "name": "stdout",
     "output_type": "stream",
     "text": [
      "20000\n",
      "[['u03999526', 'b50949651', '-1'], ['u43927515', 'b70561867', '-1'], ('u09696472', 'b62144835', 4)]\n"
     ]
    }
   ],
   "source": [
    "val_unread = []\n",
    "for user, book, _ in val: \n",
    "    unread_book = random.sample(all_books, 1)\n",
    "    while(unread_book in list(all_booksReadBy[user])):\n",
    "        unread_book = random.sample(all_books, 1)\n",
    "    val_unread.append([user, str(unread_book[0]), '-1'])\n",
    "\n",
    "val = val + val_unread\n",
    "random.shuffle(val)\n",
    "print(len(val))\n",
    "print(val[0:3])"
   ]
  },
  {
   "cell_type": "code",
   "execution_count": 8,
   "metadata": {},
   "outputs": [],
   "source": [
    "train_LR = train\n",
    "train_unread = []\n",
    "\n",
    "for user, book, _ in train: \n",
    "    unread_book = random.sample(all_books, 1)\n",
    "    while(unread_book in list(all_booksReadBy[user])):\n",
    "        unread_book = random.sample(all_books, 1)\n",
    "    train_unread.append([user, str(unread_book[0]), '-1'])"
   ]
  },
  {
   "cell_type": "code",
   "execution_count": 9,
   "metadata": {},
   "outputs": [],
   "source": [
    "def sims_max_value(sims):\n",
    "    prediction = False\n",
    "    top5_ave   = 0\n",
    "    if sims != []:\n",
    "        prediction = max(sims)\n",
    "        top5_ave = sum(sims[:5]) / min(5, len(sims))\n",
    "    return prediction"
   ]
  },
  {
   "cell_type": "markdown",
   "metadata": {},
   "source": [
    "# JACCARD FUNCTIONS"
   ]
  },
  {
   "cell_type": "code",
   "execution_count": 10,
   "metadata": {},
   "outputs": [],
   "source": [
    "def jaccard(set1, set2):\n",
    "    \"\"\"\n",
    "    Returns the Jaccard similarity between two sets,\n",
    "    set1 & set2\n",
    "    \"\"\" \n",
    "    set_intersection = len(set1.intersection(set2))\n",
    "    set_union = len(set1.union(set2))\n",
    "    if set_intersection == 0:\n",
    "        return 0\n",
    "    else:\n",
    "        return set_intersection / set_union\n",
    "    \n",
    "def calc_jac_books(user, book_predict, mode = 'train'):\n",
    "    books_user_read = train_booksReadBy[user]\n",
    "    jac_sims = []\n",
    "    \n",
    "    for users_book in books_user_read:  \n",
    "        if users_book == book_predict: \n",
    "            if mode == 'train': continue\n",
    "            # else: return 1\n",
    "            \n",
    "        users_read_book_predict = train_usersReadBook[book_predict]\n",
    "        users_read_users_book   = train_usersReadBook[users_book]\n",
    "        jac_sim = jaccard(users_read_book_predict, users_read_users_book)\n",
    "        jac_sims.append(jac_sim)\n",
    "    return jac_sims\n",
    "\n",
    "def calc_jac_users(user_predict, book, mode = 'train'):\n",
    "    user_read_book = train_usersReadBook[book]\n",
    "    jac_sims = []\n",
    "    for user in user_read_book:   \n",
    "        if user == user_predict: \n",
    "            if mode == 'train': continue\n",
    "        books_user_read          = train_booksReadBy[user_predict]\n",
    "        books_user_predict_read  = train_booksReadBy[user]  \n",
    "        jac_sim = jaccard(books_user_read, books_user_predict_read)\n",
    "        jac_sims.append(jac_sim)\n",
    "    return jac_sims\n",
    "\n",
    "def calc_jac_users_alt(user_predict, book, mode = 'train'):\n",
    "    user_read_book = train_usersReadBook[book]\n",
    "    jac_sims = []\n",
    "    for user in user_read_book:   \n",
    "        if user == user_predict: \n",
    "            if mode == 'train': continue\n",
    "        books_user_read          = train_booksReadBy[user_predict]\n",
    "        books_user_predict_read  = train_booksReadBy[user]\n",
    "        jac_sim = jaccard(books_user_read, books_user_predict_read)\n",
    "        jac_sims.append((jac_sim, user))\n",
    "    if len(jac_sims) == 0: return 0\n",
    "    jac_sims.sort(reverse = True)\n",
    "    for user in jac_sims[:10]:\n",
    "        if book in train_booksReadBy[user]: return 1\n",
    "    return 0"
   ]
  },
  {
   "cell_type": "markdown",
   "metadata": {},
   "source": [
    "# COSINE FUNCTIONS"
   ]
  },
  {
   "cell_type": "code",
   "execution_count": 11,
   "metadata": {},
   "outputs": [],
   "source": [
    "allRatings = []\n",
    "userRatings = defaultdict(list)\n",
    "bookRatings = defaultdict(list)\n",
    "\n",
    "for user, book, rating in readCSV(\"train_Interactions.csv.gz\"):\n",
    "    rating = int(rating)\n",
    "    allRatings.append(rating)\n",
    "    userRatings[user].append(rating)\n",
    "    bookRatings[book].append(rating)\n",
    "\n",
    "bookAverage = {}\n",
    "for book in bookRatings:\n",
    "    bookAverage[book] = sum(bookRatings[book]) / len(bookRatings[book])\n",
    "\n",
    "userAverage = {}\n",
    "for user in userRatings:\n",
    "    userAverage[user] = sum(userRatings[user]) / len(userRatings[user])\n",
    "    \n",
    "def cos_sim_books(book1, book2):\n",
    "    if book1 == book2: return 1\n",
    "    users_read_both = list(train_usersReadBook[book1]) + list(train_usersReadBook[book2])\n",
    "    users_read_both = set(users_read_both)\n",
    "    book1_ratings = 0\n",
    "    book2_ratings = 0\n",
    "    zero_users = set()\n",
    "    for user in users_read_both:\n",
    "        if userBookRatings[user][book1] == 0: zero_users.add(user)\n",
    "        if userBookRatings[user][book2] == 0: zero_users.add(user)\n",
    "    for zero_user in zero_users:\n",
    "        users_read_both.remove(zero_user)\n",
    "\n",
    "    if len(users_read_both) == 0: return 0\n",
    "    \n",
    "    numerator_sum = 0; denom_sum1 = 0; denom_sum2 = 0\n",
    "    for user in users_read_both:\n",
    "        arg1 = (userBookRatings[user][book1] > userAverage[user]) * 2 - 1\n",
    "        arg2 = (userBookRatings[user][book2] > userAverage[user]) * 2 - 1\n",
    "        numerator_sum += arg1 * arg2\n",
    "        denom_sum1 += arg1 ** 2\n",
    "        denom_sum2 += arg2 ** 2 \n",
    "    denom = denom_sum1 * denom_sum2\n",
    "    if denom == 0: return 0\n",
    "    cosine_sim = numerator_sum / (denom ** 0.5)\n",
    "    \n",
    "    return cosine_sim\n",
    "\n",
    "def cos_sim_users(user1, user2):\n",
    "    if user1 == user2: return 1\n",
    "    books_readby_both = list(train_booksReadBy[user1]) + list(train_booksReadBy[user2])\n",
    "    books_readby_both = set(books_readby_both)\n",
    "    user1_ratings = 0\n",
    "    user2_ratings = 0\n",
    "    zero_books = set()\n",
    "    for book in books_readby_both:\n",
    "        if userBookRatings[user1][book] == 0: zero_books.add(book)\n",
    "        if userBookRatings[user2][book] == 0: zero_books.add(book)\n",
    "    for zero_book in zero_books:\n",
    "        books_readby_both.remove(zero_book)\n",
    "\n",
    "    if len(books_readby_both) == 0: return 0\n",
    "    \n",
    "    numerator_sum = 0; denom_sum1 = 0; denom_sum2 = 0\n",
    "    for book in books_readby_both:\n",
    "        arg1 = (userBookRatings[user1][book] > bookAverage[book]) * 2 - 1\n",
    "        arg2 = (userBookRatings[user2][book] > bookAverage[book]) * 2 - 1\n",
    "        # LEFT HERE\n",
    "        numerator_sum += arg1 * arg2\n",
    "        denom_sum1 += arg1 ** 2\n",
    "        denom_sum2 += arg2 ** 2 \n",
    "    denom = denom_sum1 * denom_sum2\n",
    "    if denom == 0: return 0\n",
    "    cosine_sim = numerator_sum / (denom ** 0.5)\n",
    "    \n",
    "    return cosine_sim\n",
    "\n",
    "def calc_cosine_books(user, book_predict, mode = 'train'):\n",
    "    books_user_read = train_booksReadBy[user]\n",
    "    cosine_sims = []\n",
    "    for users_book in books_user_read:  \n",
    "        if users_book == book_predict:\n",
    "            if mode == 'train': continue\n",
    "            # else: return 1\n",
    "        cosine_sim = cos_sim_books(users_book, book_predict)\n",
    "        cosine_sims.append(cosine_sim)\n",
    "    return cosine_sims\n",
    "\n",
    "def calc_cosine_users(user_predict, book, mode = 'train'):\n",
    "    user_read_book = train_usersReadBook[book]\n",
    "    cosine_sims = []\n",
    "    for user in user_read_book:  \n",
    "        if user == user_predict:\n",
    "            if mode == 'train': continue\n",
    "            # else: return 1\n",
    "        cosine_sim = cos_sim_users(user, user_predict)\n",
    "        cosine_sims.append(cosine_sim)\n",
    "    return cosine_sims\n",
    "\n",
    "def calc_cosine_users_alt(user_predict, book, mode = 'train'):\n",
    "    user_read_book = train_usersReadBook[book]\n",
    "    cosine_sims = []\n",
    "    for user in user_read_book:  \n",
    "        if user == user_predict:\n",
    "            if mode == 'train': continue\n",
    "            # else: return 1\n",
    "        cosine_sim = cos_sim_users(user, user_predict)\n",
    "        cosine_sims.append(cosine_sim)\n",
    "    if len(cosine_sims) == 0: return 0\n",
    "    cosine_sims.sort(reverse = True)\n",
    "    for user in cosine_sims[:10]:\n",
    "        if book in train_booksReadBy[user]: return 1\n",
    "    return 0"
   ]
  },
  {
   "cell_type": "markdown",
   "metadata": {},
   "source": [
    "# PEARSON FUNCTIONS"
   ]
  },
  {
   "cell_type": "code",
   "execution_count": 12,
   "metadata": {},
   "outputs": [],
   "source": [
    "def pearson_sim(book1, book2):\n",
    "    if book1 == book2: return 1\n",
    "    users_read_both = list(train_usersReadBook[book1]) + list(train_usersReadBook[book2])\n",
    "    users_read_both = set(users_read_both)\n",
    "    book1_ratings = 0\n",
    "    book2_ratings = 0\n",
    "    zero_users = set()\n",
    "    for user in users_read_both:\n",
    "        if userBookRatings[user][book1] == 0: zero_users.add(user)\n",
    "        if userBookRatings[user][book2] == 0: zero_users.add(user)\n",
    "    for zero_user in zero_users:\n",
    "        users_read_both.remove(zero_user)\n",
    "\n",
    "    if len(users_read_both) == 0: return 0\n",
    "\n",
    "    for user in users_read_both:\n",
    "        book1_ratings += userBookRatings[user][book1]\n",
    "        book2_ratings += userBookRatings[user][book2]\n",
    "    \n",
    "    book1_ratings = book1_ratings / len(users_read_both)\n",
    "    book2_ratings = book2_ratings / len(users_read_both)\n",
    "    numerator_sum = 0; denom_sum1 = 0; denom_sum2 = 0\n",
    "    for user in users_read_both:\n",
    "        arg1 = (userBookRatings[user][book1] - book1_ratings)\n",
    "        arg2 = (userBookRatings[user][book2] - book2_ratings)\n",
    "        # print(arg1, arg2)\n",
    "        numerator_sum += arg1 * arg2\n",
    "        denom_sum1 += arg1 ** 2\n",
    "        denom_sum2 += arg2 ** 2\n",
    "    denom = denom_sum1 * denom_sum2\n",
    "    # print(numerator_sum)\n",
    "    # print(denom_sum1, denom_sum2)\n",
    "    if denom == 0: return 0\n",
    "    pearson_sim = numerator_sum / (denom ** 0.5)\n",
    "    \n",
    "    if pearson_sim == 1: # Probably very low number of books in common\n",
    "        return min(1, 0.2 * len(users_read_both))\n",
    "    return pearson_sim\n",
    "\n",
    "def calc_pearson(user, book_predict, mode):\n",
    "    books_user_read = train_booksReadBy[user]\n",
    "    pears_sims = []\n",
    "    for users_book in books_user_read:  \n",
    "        if users_book == book_predict: \n",
    "            if mode == 'train': continue  \n",
    "            else: return 1\n",
    "        pears_sim = pearson_sim(users_book, book_predict)\n",
    "        pears_sims.append(pears_sim)\n",
    "    return sims_max_value(pears_sims)"
   ]
  },
  {
   "cell_type": "markdown",
   "metadata": {},
   "source": [
    "# TRAINING"
   ]
  },
  {
   "cell_type": "code",
   "execution_count": 16,
   "metadata": {},
   "outputs": [],
   "source": [
    "def feature(datum, mode = 'train'):\n",
    "    user, book, _ = datum\n",
    "    feat = [1]\n",
    "    \n",
    "    pop_val = (book in return1) * 1; \n",
    "    feat.append(pop_val)\n",
    "    \n",
    "    jac_sims_book = calc_jac_books(user, book, mode); \n",
    "    if len(jac_sims_book) != 0:\n",
    "        feat.append(max(jac_sims_book)); \n",
    "        # feat.append(len(jac_sims_book));\\\n",
    "        feat.append(sum(jac_sims_book) / len(jac_sims_book))\n",
    "    else:\n",
    "        feat.append(0); \n",
    "        # feat.append(0);\n",
    "        feat.append(0)\n",
    "    \n",
    "    jac_sims_user = calc_jac_users(user, book, mode); \n",
    "    if len(jac_sims_user) != 0:\n",
    "        feat.append(max(jac_sims_user)); \n",
    "        feat.append(len(jac_sims_user));\\\n",
    "        feat.append(sum(jac_sims_user) / len(jac_sims_user))\n",
    "    else:\n",
    "        feat.append(0); \n",
    "        feat.append(0); \n",
    "        feat.append(0)\n",
    "        \n",
    "    cosine_sim_book = calc_cosine_books(user, book, mode);\n",
    "    if len(cosine_sim_book) != 0:\n",
    "        feat.append(max(cosine_sim_book))\n",
    "        feat.append(sum(cosine_sim_book) / len(cosine_sim_book))\n",
    "    else:\n",
    "        feat.append(0)\n",
    "        feat.append(0)\n",
    "        \n",
    "    cosine_sim_user = calc_cosine_users(user, book, mode);\n",
    "    if len(cosine_sim_user) != 0:\n",
    "        feat.append(max(cosine_sim_user))\n",
    "        feat.append(sum(cosine_sim_user) / len(cosine_sim_user))\n",
    "    else:\n",
    "        feat.append(0)\n",
    "        feat.append(0)\n",
    "        \n",
    "#     pearson_sim_book = calc_pearson(user, book, mode); \n",
    "#     feat.append(pearson_sim_book)\n",
    "    \n",
    "    return feat"
   ]
  },
  {
   "cell_type": "code",
   "execution_count": 17,
   "metadata": {},
   "outputs": [],
   "source": [
    "return1 = popular_books_set(mostPopular, 0.64)\n",
    "train_LR = train + train_unread"
   ]
  },
  {
   "cell_type": "code",
   "execution_count": 18,
   "metadata": {
    "scrolled": true
   },
   "outputs": [
    {
     "name": "stdout",
     "output_type": "stream",
     "text": [
      "here\n",
      "10000, 20000, 30000, 40000, 50000, 60000, 70000, 80000, 90000, 100000, 110000, 120000, 130000, 140000, 150000, 160000, 170000, 180000, 190000, 200000, 210000, 220000, 230000, 240000, 250000, 260000, 270000, 280000, 290000, 300000, 310000, 320000, 330000, 340000, 350000, 360000, 370000, 380000, 390000, 400000, "
     ]
    }
   ],
   "source": [
    "random.shuffle(train_LR)\n",
    "#v train_LR = train_LR[:20000]\n",
    "loop_count = 0\n",
    "LR_feat_train = []\n",
    "print('here')\n",
    "for d in train_LR:\n",
    "    loop_count += 1\n",
    "    if loop_count % 10000 == 0: print(loop_count, end = ', ');\n",
    "    LR_feat_train.append(feature(d, mode = 'train'))\n",
    "LR_labels_train = [int(rating) >= 0 for _, _, rating in train_LR]    "
   ]
  },
  {
   "cell_type": "code",
   "execution_count": 19,
   "metadata": {},
   "outputs": [
    {
     "name": "stdout",
     "output_type": "stream",
     "text": [
      "here\n",
      "10000, 20000, "
     ]
    }
   ],
   "source": [
    "loop_count = 0\n",
    "LR_feat_val = []\n",
    "print('here')\n",
    "for d in val:\n",
    "    loop_count += 1\n",
    "    if loop_count % 10000 == 0: print(loop_count, end = ', ');\n",
    "    LR_feat_val.append(feature(d, mode = 'train'))\n",
    "LR_labels_val   = [int(rating) >= 0 for _, _, rating in val]"
   ]
  },
  {
   "cell_type": "markdown",
   "metadata": {},
   "source": [
    "# LOGISTIC REGRESSION"
   ]
  },
  {
   "cell_type": "code",
   "execution_count": 20,
   "metadata": {},
   "outputs": [],
   "source": [
    "# Balanced Error Rate function\n",
    "def balanced_error_rate(pred, labels):\n",
    "    TP_ = np.logical_and(pred, labels)\n",
    "    FP_ = np.logical_and(pred, np.logical_not(labels))\n",
    "    TN_ = np.logical_and(np.logical_not(pred), np.logical_not(labels))\n",
    "    FN_ = np.logical_and(np.logical_not(pred), labels)\n",
    "\n",
    "    TP = sum(TP_)\n",
    "    FP = sum(FP_)\n",
    "    TN = sum(TN_)\n",
    "    FN = sum(FN_)\n",
    "    \n",
    "    acc = (TP + TN) / (TP + FP + TN + FN)\n",
    "    BER = 1 - 0.5 * (TP / (TP + FN) + TN / (TN + FP))\n",
    "    return acc, BER"
   ]
  },
  {
   "cell_type": "code",
   "execution_count": 22,
   "metadata": {},
   "outputs": [
    {
     "name": "stdout",
     "output_type": "stream",
     "text": [
      "5, 10, 15, 20, "
     ]
    },
    {
     "data": {
      "image/png": "[encoded data removed]",
      "text/plain": [
       "<Figure size 432x288 with 1 Axes>"
      ]
     },
     "metadata": {
      "needs_background": "light"
     },
     "output_type": "display_data"
    },
    {
     "name": "stdout",
     "output_type": "stream",
     "text": [
      "\n",
      "C value for highest accuracy is: 0.004832930238571752\n",
      "Best validation accuracy is: 0.66875\n"
     ]
    }
   ],
   "source": [
    "C_values = np.logspace(-4, 0, num = 20)\n",
    "accs = []\n",
    "BERs = []\n",
    "loop_count = 0\n",
    "for C_value in C_values:\n",
    "    loop_count += 1\n",
    "    if loop_count % 2 == 0: print(loop_count, end = ', ')\n",
    "    clf = LogisticRegression(C = C_value).fit(LR_feat_train, LR_labels_train)\n",
    "    predicitons = clf.predict(LR_feat_val)\n",
    "    acc, BER = balanced_error_rate(predicitons, LR_labels_val)\n",
    "    # acc = clf.score(LR_feat_val, LR_labels_val)\n",
    "    accs.append(acc)\n",
    "    BERs.append(BER)\n",
    "\n",
    "plt.plot(C_values, accs, label='Validation accuracy')\n",
    "plt.plot(C_values, BERs, label='Validation BER')\n",
    "plt.ylabel('Validation accuracy')\n",
    "plt.xlabel('lambda value'), plt.xscale('log')\n",
    "plt.title('Validation accuracy vs C values')\n",
    "plt.legend()\n",
    "plt.show()\n",
    "\n",
    "indx = accs.index(max(accs))\n",
    "print('\\nC value for highest accuracy is:', C_values[indx])\n",
    "print('Best validation accuracy is:', accs[indx])"
   ]
  },
  {
   "cell_type": "code",
   "execution_count": null,
   "metadata": {},
   "outputs": [],
   "source": [
    "clf2.coef_"
   ]
  },
  {
   "cell_type": "code",
   "execution_count": 23,
   "metadata": {},
   "outputs": [],
   "source": [
    "# C = 200 0.68983 accuracy validation size 40000\n",
    "# C = 300 \n",
    "clf1 = LogisticRegression(C = C_values[indx]).fit(LR_feat_train, LR_labels_train)\n",
    "# clf1 = LogisticRegression(C = 0.003359818286283781).fit(LR_feat_train, LR_labels_train)\n",
    "clf2 = LogisticRegression(C = 200).fit(LR_feat_val, LR_labels_val)\n",
    "def predict_datapoint_new(user, book_predict):\n",
    "    feat = np.array(feature((user, book_predict,_), mode = 'train'))\n",
    "    feat = feat.reshape(1, -1)\n",
    "    prediction = clf.predict(feat)       \n",
    "    return prediction"
   ]
  },
  {
   "cell_type": "markdown",
   "metadata": {},
   "source": [
    "# WRITING PREDICTIONS TO FILE"
   ]
  },
  {
   "cell_type": "code",
   "execution_count": null,
   "metadata": {},
   "outputs": [],
   "source": [
    "# test_set = []\n",
    "# for l in open(\"pairs_Read.txt\"):\n",
    "#     if l.startswith(\"userID\"): # it's just the header\n",
    "#         continue\n",
    "#     user, book = l.strip().split('-') # it is a datapoint\n",
    "#     test_set.append((user, book, _))\n",
    "\n",
    "# X_test   = np.array([feature(d, 'test') for d in test_set])\n",
    "# y_test   = [int(rating) >= 0 for _, _, rating in test_set]"
   ]
  },
  {
   "cell_type": "code",
   "execution_count": null,
   "metadata": {},
   "outputs": [],
   "source": [
    "clf2 = LogisticRegression(C = 200).fit(LR_feat_val, LR_labels_val)"
   ]
  },
  {
   "cell_type": "code",
   "execution_count": null,
   "metadata": {},
   "outputs": [],
   "source": [
    "len(LR_feat_val[0])"
   ]
  },
  {
   "cell_type": "code",
   "execution_count": 24,
   "metadata": {},
   "outputs": [
    {
     "name": "stdout",
     "output_type": "stream",
     "text": [
      "10000\n"
     ]
    }
   ],
   "source": [
    "pos_count = 0\n",
    "def predict_datapoint_new(clf, user, book):\n",
    "    feat = np.array(feature((user, book, _), 'test'))\n",
    "    feat = feat.reshape(1, -1)\n",
    "    prediction = clf.decision_function(feat)       \n",
    "    return prediction\n",
    "\n",
    "count = 0;\n",
    "userPredictions = defaultdict(list)\n",
    "userPredictions2D = defaultdict(lambda: defaultdict(set))\n",
    "\n",
    "# confidence_scores = clf2.decision_function(X_test)\n",
    "\n",
    "with open(\"predictions_Read.txt\", 'w') as predictions:\n",
    "    for l in open(\"pairs_Read.txt\"):\n",
    "        if l.startswith(\"userID\"): # it's just the header\n",
    "            predictions.write(l)\n",
    "            continue\n",
    "        user, book = l.strip().split('-') # it is a datapoint\n",
    "        userPredictions[user].append((predict_datapoint_new(clf1, user, book), book))\n",
    "\n",
    "for user in userPredictions:\n",
    "    userPredictions[user].sort(reverse = True)\n",
    "    books = [d[1] for d in userPredictions[user]]\n",
    "    for i in range(len(books)):\n",
    "        userPredictions2D[user][books[i]] = 0\n",
    "    for i in range(int(len(books)/2)):\n",
    "        userPredictions2D[user][books[i]] = 1\n",
    "\n",
    "count = 0\n",
    "with open(\"predictions_Read.txt\", 'w') as predictions:\n",
    "    for l in open(\"pairs_Read.txt\"):\n",
    "        if l.startswith(\"userID\"): # it's just the header\n",
    "            predictions.write(l)\n",
    "            continue\n",
    "        user, book = l.strip().split('-') # it is a datapoint\n",
    "        prediction = userPredictions2D[user][book]\n",
    "        if prediction:\n",
    "            count += 1\n",
    "            predictions.write(user + '-' + book + \",1\\n\")\n",
    "        else:\n",
    "            predictions.write(user + '-' + book + \",0\\n\")\n",
    "print(count)"
   ]
  },
  {
   "cell_type": "code",
   "execution_count": null,
   "metadata": {},
   "outputs": [],
   "source": []
  },
  {
   "cell_type": "code",
   "execution_count": null,
   "metadata": {},
   "outputs": [],
   "source": []
  },
  {
   "cell_type": "code",
   "execution_count": null,
   "metadata": {},
   "outputs": [],
   "source": []
  },
  {
   "cell_type": "code",
   "execution_count": null,
   "metadata": {},
   "outputs": [],
   "source": [
    "predictions1 = clf1.predict(X_test)\n",
    "predictions2 = clf2.predict(X_test)\n",
    "preds = (predictions1 + predictions2) * 1 > sum((predictions1 + predictions2) * 1) / len(preds)"
   ]
  },
  {
   "cell_type": "code",
   "execution_count": null,
   "metadata": {},
   "outputs": [],
   "source": [
    "aver = sum((predictions1 + predictions2) * 1) / len(preds)"
   ]
  },
  {
   "cell_type": "code",
   "execution_count": null,
   "metadata": {},
   "outputs": [],
   "source": [
    "pos_count = sum(clf2.predict(X_test))\n",
    "print(pos_count)\n",
    "\n",
    "offset = 0\n",
    "conf_with_labels = zip(confidence_scores, [(d[0],d[1]) for d in test_set])\n",
    "conf_with_labels = list(conf_with_labels)\n",
    "conf_with_labels.sort(reverse = True)\n",
    "positives = conf_with_labels[:pos_count + offset]\n",
    "negatives = conf_with_labels[pos_count + offset:]\n",
    "positives = [d[1] for d in positives]\n",
    "negatives = [d[1] for d in negatives]\n",
    "print(len(positives))\n",
    "print(len(negatives))"
   ]
  },
  {
   "cell_type": "code",
   "execution_count": null,
   "metadata": {},
   "outputs": [],
   "source": [
    "pos_count = 0\n",
    "def predict_datapoint_new(clf, user, book):\n",
    "    feat = np.array(feature((user, book,_), 'test'))\n",
    "    feat = feat.reshape(1, -1)\n",
    "    prediction = clf.predict(feat)       \n",
    "    return prediction\n",
    "\n",
    "with open(\"predictions_Read.txt\", 'w') as predictions:\n",
    "    for l in open(\"pairs_Read.txt\"):\n",
    "        if l.startswith(\"userID\"): # it's just the header\n",
    "            predictions.write(l)\n",
    "            continue\n",
    "        user, book = l.strip().split('-') # it is a datapoint\n",
    "        prediction1 = predict_datapoint_new(clf1, user, book)\n",
    "        prediction2 = predict_datapoint_new(clf2, user, book)\n",
    "        prediction = (prediction1 + prediction2) * 1 > aver\n",
    "        if prediction:\n",
    "            pos_count += 1\n",
    "            predictions.write(user + '-' + book + \",1\\n\")\n",
    "        else:\n",
    "            predictions.write(user + '-' + book + \",0\\n\")"
   ]
  },
  {
   "cell_type": "code",
   "execution_count": null,
   "metadata": {},
   "outputs": [],
   "source": [
    "print(pos_count)"
   ]
  },
  {
   "cell_type": "code",
   "execution_count": null,
   "metadata": {},
   "outputs": [],
   "source": [
    "x = 3\n",
    "def fun():\n",
    "    global x\n",
    "    x = 11\n",
    "    return\n",
    "fun()\n",
    "print('x is currently', x)"
   ]
  },
  {
   "cell_type": "code",
   "execution_count": null,
   "metadata": {},
   "outputs": [],
   "source": [
    "def fun1(x):\n",
    "    def fun2():\n",
    "        nonlocal x\n",
    "        print('non local x is', x)\n",
    "        x = -25\n",
    "    return fun2()\n",
    "x = 3\n",
    "fun1(x)\n",
    "print('x is currently', x)"
   ]
  },
  {
   "cell_type": "code",
   "execution_count": null,
   "metadata": {},
   "outputs": [],
   "source": []
  }
 ],
 "metadata": {
  "kernelspec": {
   "display_name": "Python 3",
   "language": "python",
   "name": "python3"
  },
  "language_info": {
   "codemirror_mode": {
    "name": "ipython",
    "version": 3
   },
   "file_extension": ".py",
   "mimetype": "text/x-python",
   "name": "python",
   "nbconvert_exporter": "python",
   "pygments_lexer": "ipython3",
   "version": "3.7.3"
  }
 },
 "nbformat": 4,
 "nbformat_minor": 2
}
